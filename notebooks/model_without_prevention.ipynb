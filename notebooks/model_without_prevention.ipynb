{
 "cells": [
  {
   "cell_type": "code",
   "execution_count": 2,
   "metadata": {},
   "outputs": [
    {
     "name": "stdout",
     "output_type": "stream",
     "text": [
      "WARNING: Could not locate the 'gurobi' executable, which is required for\n",
      "solver gurobi\n"
     ]
    },
    {
     "ename": "ApplicationError",
     "evalue": "No executable found for solver 'gurobi'",
     "output_type": "error",
     "traceback": [
      "\u001b[0;31m---------------------------------------------------------------------------\u001b[0m",
      "\u001b[0;31mApplicationError\u001b[0m                          Traceback (most recent call last)",
      "Cell \u001b[0;32mIn[2], line 33\u001b[0m\n\u001b[1;32m     31\u001b[0m \u001b[38;5;66;03m# Solve the model\u001b[39;00m\n\u001b[1;32m     32\u001b[0m solver \u001b[38;5;241m=\u001b[39m SolverFactory(\u001b[38;5;124m'\u001b[39m\u001b[38;5;124mgurobi\u001b[39m\u001b[38;5;124m'\u001b[39m)\n\u001b[0;32m---> 33\u001b[0m results \u001b[38;5;241m=\u001b[39m \u001b[43msolver\u001b[49m\u001b[38;5;241;43m.\u001b[39;49m\u001b[43msolve\u001b[49m\u001b[43m(\u001b[49m\u001b[43mmodel\u001b[49m\u001b[43m)\u001b[49m\n\u001b[1;32m     35\u001b[0m \u001b[38;5;66;03m# Print the results\u001b[39;00m\n\u001b[1;32m     36\u001b[0m \u001b[38;5;28mprint\u001b[39m(\u001b[38;5;124mf\u001b[39m\u001b[38;5;124m\"\u001b[39m\u001b[38;5;124mInternal Maintenance: \u001b[39m\u001b[38;5;132;01m{\u001b[39;00mmodel\u001b[38;5;241m.\u001b[39minternal()\u001b[38;5;132;01m}\u001b[39;00m\u001b[38;5;130;01m\\n\u001b[39;00m\u001b[38;5;124m\"\u001b[39m)\n",
      "File \u001b[0;32m~/anaconda3/envs/turbine_env/lib/python3.8/site-packages/pyomo/opt/base/solvers.py:534\u001b[0m, in \u001b[0;36mOptSolver.solve\u001b[0;34m(self, *args, **kwds)\u001b[0m\n\u001b[1;32m    531\u001b[0m \u001b[38;5;28;01mdef\u001b[39;00m \u001b[38;5;21msolve\u001b[39m(\u001b[38;5;28mself\u001b[39m, \u001b[38;5;241m*\u001b[39margs, \u001b[38;5;241m*\u001b[39m\u001b[38;5;241m*\u001b[39mkwds):\n\u001b[1;32m    532\u001b[0m \u001b[38;5;250m    \u001b[39m\u001b[38;5;124;03m\"\"\"Solve the problem\"\"\"\u001b[39;00m\n\u001b[0;32m--> 534\u001b[0m     \u001b[38;5;28;43mself\u001b[39;49m\u001b[38;5;241;43m.\u001b[39;49m\u001b[43mavailable\u001b[49m\u001b[43m(\u001b[49m\u001b[43mexception_flag\u001b[49m\u001b[38;5;241;43m=\u001b[39;49m\u001b[38;5;28;43;01mTrue\u001b[39;49;00m\u001b[43m)\u001b[49m\n\u001b[1;32m    535\u001b[0m     \u001b[38;5;66;03m#\u001b[39;00m\n\u001b[1;32m    536\u001b[0m     \u001b[38;5;66;03m# If the inputs are models, then validate that they have been\u001b[39;00m\n\u001b[1;32m    537\u001b[0m     \u001b[38;5;66;03m# constructed! Collect suffix names to try and import from solution.\u001b[39;00m\n\u001b[1;32m    538\u001b[0m     \u001b[38;5;66;03m#\u001b[39;00m\n\u001b[1;32m    539\u001b[0m     \u001b[38;5;28;01mfrom\u001b[39;00m \u001b[38;5;21;01mpyomo\u001b[39;00m\u001b[38;5;21;01m.\u001b[39;00m\u001b[38;5;21;01mcore\u001b[39;00m\u001b[38;5;21;01m.\u001b[39;00m\u001b[38;5;21;01mbase\u001b[39;00m\u001b[38;5;21;01m.\u001b[39;00m\u001b[38;5;21;01mblock\u001b[39;00m \u001b[38;5;28;01mimport\u001b[39;00m BlockData\n",
      "File \u001b[0;32m~/anaconda3/envs/turbine_env/lib/python3.8/site-packages/pyomo/opt/solver/ilmcmd.py:35\u001b[0m, in \u001b[0;36mILMLicensedSystemCallSolver.available\u001b[0;34m(self, exception_flag)\u001b[0m\n\u001b[1;32m     33\u001b[0m \u001b[38;5;28;01mif\u001b[39;00m \u001b[38;5;28mself\u001b[39m\u001b[38;5;241m.\u001b[39m_assert_available:\n\u001b[1;32m     34\u001b[0m     \u001b[38;5;28;01mreturn\u001b[39;00m \u001b[38;5;28;01mTrue\u001b[39;00m\n\u001b[0;32m---> 35\u001b[0m \u001b[38;5;28;01mif\u001b[39;00m \u001b[38;5;129;01mnot\u001b[39;00m \u001b[43mpyomo\u001b[49m\u001b[38;5;241;43m.\u001b[39;49m\u001b[43mopt\u001b[49m\u001b[38;5;241;43m.\u001b[39;49m\u001b[43msolver\u001b[49m\u001b[38;5;241;43m.\u001b[39;49m\u001b[43mshellcmd\u001b[49m\u001b[38;5;241;43m.\u001b[39;49m\u001b[43mSystemCallSolver\u001b[49m\u001b[38;5;241;43m.\u001b[39;49m\u001b[43mavailable\u001b[49m\u001b[43m(\u001b[49m\n\u001b[1;32m     36\u001b[0m \u001b[43m    \u001b[49m\u001b[38;5;28;43mself\u001b[39;49m\u001b[43m,\u001b[49m\u001b[43m \u001b[49m\u001b[43mexception_flag\u001b[49m\n\u001b[1;32m     37\u001b[0m \u001b[43m\u001b[49m\u001b[43m)\u001b[49m:\n\u001b[1;32m     38\u001b[0m     \u001b[38;5;28;01mreturn\u001b[39;00m \u001b[38;5;28;01mFalse\u001b[39;00m\n\u001b[1;32m     39\u001b[0m executable \u001b[38;5;241m=\u001b[39m pyomo\u001b[38;5;241m.\u001b[39mcommon\u001b[38;5;241m.\u001b[39mExecutable(\u001b[38;5;124m\"\u001b[39m\u001b[38;5;124milmlist\u001b[39m\u001b[38;5;124m\"\u001b[39m)\n",
      "File \u001b[0;32m~/anaconda3/envs/turbine_env/lib/python3.8/site-packages/pyomo/opt/solver/shellcmd.py:140\u001b[0m, in \u001b[0;36mSystemCallSolver.available\u001b[0;34m(self, exception_flag)\u001b[0m\n\u001b[1;32m    138\u001b[0m     \u001b[38;5;28;01mif\u001b[39;00m exception_flag:\n\u001b[1;32m    139\u001b[0m         msg \u001b[38;5;241m=\u001b[39m \u001b[38;5;124m\"\u001b[39m\u001b[38;5;124mNo executable found for solver \u001b[39m\u001b[38;5;124m'\u001b[39m\u001b[38;5;132;01m%s\u001b[39;00m\u001b[38;5;124m'\u001b[39m\u001b[38;5;124m\"\u001b[39m\n\u001b[0;32m--> 140\u001b[0m         \u001b[38;5;28;01mraise\u001b[39;00m ApplicationError(msg \u001b[38;5;241m%\u001b[39m \u001b[38;5;28mself\u001b[39m\u001b[38;5;241m.\u001b[39mname)\n\u001b[1;32m    141\u001b[0m     \u001b[38;5;28;01mreturn\u001b[39;00m \u001b[38;5;28;01mFalse\u001b[39;00m\n\u001b[1;32m    142\u001b[0m \u001b[38;5;28;01mreturn\u001b[39;00m \u001b[38;5;28;01mTrue\u001b[39;00m\n",
      "\u001b[0;31mApplicationError\u001b[0m: No executable found for solver 'gurobi'"
     ]
    }
   ],
   "source": [
    "from pyomo.environ import *\n",
    "from pyomo.opt import SolverFactory\n",
    "import pandas as pd\n",
    "\n",
    "# Sample DataFrames for demonstration\n",
    "fault_data = pd.DataFrame({\n",
    "    'timestamp': pd.date_range(start='2023-01-01', periods=100, freq='D'),\n",
    "    'fault_type': ['GF', 'MF', 'FF', 'AF'] * 25,\n",
    "    'duration': [1, 2, 3, 4] * 25\n",
    "})\n",
    "\n",
    "maintenance_data = pd.DataFrame({\n",
    "    'timestamp': pd.date_range(start='2023-01-01', periods=100, freq='D'),\n",
    "    'maintenance_type': ['Internal', 'External'] * 50,\n",
    "    'cost': [750000, 50000] * 50\n",
    "})\n",
    "\n",
    "# Define Pyomo model\n",
    "model = ConcreteModel()\n",
    "\n",
    "# Decision variables\n",
    "model.internal = Var(domain=Binary)\n",
    "model.external = Var(domain=Binary)\n",
    "\n",
    "# Objective: Minimize maintenance cost\n",
    "model.obj = Objective(expr=model.internal * 750000 + model.external * 50000, sense=minimize)\n",
    "\n",
    "# Constraint: Only one maintenance type can be chosen\n",
    "model.constr = Constraint(expr=model.internal + model.external == 1)\n",
    "\n",
    "# Solve the model\n",
    "solver = SolverFactory('gurobi')\n",
    "results = solver.solve(model)\n",
    "\n",
    "# Print the results\n",
    "print(f\"Internal Maintenance: {model.internal()}\\n\")\n",
    "print(f\"External Maintenance: {model.external()}\\n\")\n",
    "print(f\"Total Cost: {model.obj()}\\n\")"
   ]
  },
  {
   "cell_type": "code",
   "execution_count": 5,
   "metadata": {},
   "outputs": [
    {
     "name": "stdout",
     "output_type": "stream",
     "text": [
      "WARNING: Could not locate the 'glpsol' executable, which is required for\n",
      "solver 'glpk'\n"
     ]
    },
    {
     "ename": "ApplicationError",
     "evalue": "No executable found for solver 'glpk'",
     "output_type": "error",
     "traceback": [
      "\u001b[0;31m---------------------------------------------------------------------------\u001b[0m",
      "\u001b[0;31mApplicationError\u001b[0m                          Traceback (most recent call last)",
      "Cell \u001b[0;32mIn[5], line 54\u001b[0m\n\u001b[1;32m     52\u001b[0m \u001b[38;5;66;03m# Solve the model using Gurobi\u001b[39;00m\n\u001b[1;32m     53\u001b[0m solver \u001b[38;5;241m=\u001b[39m SolverFactory(\u001b[38;5;124m'\u001b[39m\u001b[38;5;124mglpk\u001b[39m\u001b[38;5;124m'\u001b[39m)  \u001b[38;5;66;03m# Gurobi solver\u001b[39;00m\n\u001b[0;32m---> 54\u001b[0m result \u001b[38;5;241m=\u001b[39m \u001b[43msolver\u001b[49m\u001b[38;5;241;43m.\u001b[39;49m\u001b[43msolve\u001b[49m\u001b[43m(\u001b[49m\u001b[43mmodel\u001b[49m\u001b[43m,\u001b[49m\u001b[43m \u001b[49m\u001b[43mtee\u001b[49m\u001b[38;5;241;43m=\u001b[39;49m\u001b[38;5;28;43;01mTrue\u001b[39;49;00m\u001b[43m)\u001b[49m\n\u001b[1;32m     56\u001b[0m \u001b[38;5;66;03m# Display results\u001b[39;00m\n\u001b[1;32m     57\u001b[0m \u001b[38;5;28mprint\u001b[39m(\u001b[38;5;124m\"\u001b[39m\u001b[38;5;124mOptimal Solution:\u001b[39m\u001b[38;5;124m\"\u001b[39m)\n",
      "File \u001b[0;32m~/anaconda3/envs/turbine_env/lib/python3.8/site-packages/pyomo/opt/base/solvers.py:534\u001b[0m, in \u001b[0;36mOptSolver.solve\u001b[0;34m(self, *args, **kwds)\u001b[0m\n\u001b[1;32m    531\u001b[0m \u001b[38;5;28;01mdef\u001b[39;00m \u001b[38;5;21msolve\u001b[39m(\u001b[38;5;28mself\u001b[39m, \u001b[38;5;241m*\u001b[39margs, \u001b[38;5;241m*\u001b[39m\u001b[38;5;241m*\u001b[39mkwds):\n\u001b[1;32m    532\u001b[0m \u001b[38;5;250m    \u001b[39m\u001b[38;5;124;03m\"\"\"Solve the problem\"\"\"\u001b[39;00m\n\u001b[0;32m--> 534\u001b[0m     \u001b[38;5;28;43mself\u001b[39;49m\u001b[38;5;241;43m.\u001b[39;49m\u001b[43mavailable\u001b[49m\u001b[43m(\u001b[49m\u001b[43mexception_flag\u001b[49m\u001b[38;5;241;43m=\u001b[39;49m\u001b[38;5;28;43;01mTrue\u001b[39;49;00m\u001b[43m)\u001b[49m\n\u001b[1;32m    535\u001b[0m     \u001b[38;5;66;03m#\u001b[39;00m\n\u001b[1;32m    536\u001b[0m     \u001b[38;5;66;03m# If the inputs are models, then validate that they have been\u001b[39;00m\n\u001b[1;32m    537\u001b[0m     \u001b[38;5;66;03m# constructed! Collect suffix names to try and import from solution.\u001b[39;00m\n\u001b[1;32m    538\u001b[0m     \u001b[38;5;66;03m#\u001b[39;00m\n\u001b[1;32m    539\u001b[0m     \u001b[38;5;28;01mfrom\u001b[39;00m \u001b[38;5;21;01mpyomo\u001b[39;00m\u001b[38;5;21;01m.\u001b[39;00m\u001b[38;5;21;01mcore\u001b[39;00m\u001b[38;5;21;01m.\u001b[39;00m\u001b[38;5;21;01mbase\u001b[39;00m\u001b[38;5;21;01m.\u001b[39;00m\u001b[38;5;21;01mblock\u001b[39;00m \u001b[38;5;28;01mimport\u001b[39;00m BlockData\n",
      "File \u001b[0;32m~/anaconda3/envs/turbine_env/lib/python3.8/site-packages/pyomo/opt/solver/shellcmd.py:140\u001b[0m, in \u001b[0;36mSystemCallSolver.available\u001b[0;34m(self, exception_flag)\u001b[0m\n\u001b[1;32m    138\u001b[0m     \u001b[38;5;28;01mif\u001b[39;00m exception_flag:\n\u001b[1;32m    139\u001b[0m         msg \u001b[38;5;241m=\u001b[39m \u001b[38;5;124m\"\u001b[39m\u001b[38;5;124mNo executable found for solver \u001b[39m\u001b[38;5;124m'\u001b[39m\u001b[38;5;132;01m%s\u001b[39;00m\u001b[38;5;124m'\u001b[39m\u001b[38;5;124m\"\u001b[39m\n\u001b[0;32m--> 140\u001b[0m         \u001b[38;5;28;01mraise\u001b[39;00m ApplicationError(msg \u001b[38;5;241m%\u001b[39m \u001b[38;5;28mself\u001b[39m\u001b[38;5;241m.\u001b[39mname)\n\u001b[1;32m    141\u001b[0m     \u001b[38;5;28;01mreturn\u001b[39;00m \u001b[38;5;28;01mFalse\u001b[39;00m\n\u001b[1;32m    142\u001b[0m \u001b[38;5;28;01mreturn\u001b[39;00m \u001b[38;5;28;01mTrue\u001b[39;00m\n",
      "\u001b[0;31mApplicationError\u001b[0m: No executable found for solver 'glpk'"
     ]
    }
   ],
   "source": [
    "from pyomo.environ import ConcreteModel, Var, Objective, Constraint, NonNegativeReals, SolverFactory\n",
    "\n",
    "# Create a ConcreteModel\n",
    "model = ConcreteModel()\n",
    "\n",
    "# Parameters\n",
    "C_internal = 750000  # Internal maintenance cost per fault type\n",
    "C_external_normal = 50000  # External maintenance cost in normal season\n",
    "C_external_high_demand = 150000  # External maintenance cost in high demand season\n",
    "D_failure = 200000  # Downtime cost per failure (example value, you can adjust)\n",
    "F_freq = 100  # Frequency of preventable faults (example value)\n",
    "U_required = 1000  # Required uptime (example value)\n",
    "T_total = 2000  # Total available time (example value)\n",
    "B = 5000000  # Budget (example value)\n",
    "\n",
    "# Decision variables\n",
    "model.x_internal = Var(domain=NonNegativeReals)\n",
    "model.x_external_normal = Var(domain=NonNegativeReals)\n",
    "model.x_external_high_demand = Var(domain=NonNegativeReals)\n",
    "model.F_occur = Var(domain=NonNegativeReals)  # Number of failures due to unprevented issues\n",
    "\n",
    "# Objective function: Minimize total cost\n",
    "model.TotalCost = Objective(\n",
    "    expr=(\n",
    "        C_internal * model.x_internal +\n",
    "        C_external_normal * model.x_external_normal +\n",
    "        C_external_high_demand * model.x_external_high_demand +\n",
    "        D_failure * model.F_occur\n",
    "    ),\n",
    "    sense=1  # Minimize\n",
    ")\n",
    "\n",
    "# Failure occurrence without preventive success rate: F_occur = F_freq\n",
    "model.FailureOccurrence = Constraint(\n",
    "    expr=model.F_occur == F_freq\n",
    ")\n",
    "\n",
    "# Uptime constraint: T_total - T_down >= U_required\n",
    "model.UptimeConstraint = Constraint(\n",
    "    expr=T_total - (D_failure * model.F_occur) >= U_required\n",
    ")\n",
    "\n",
    "# Budget constraint: Total maintenance cost <= B\n",
    "model.BudgetConstraint = Constraint(\n",
    "    expr=(\n",
    "        C_internal * model.x_internal +\n",
    "        C_external_normal * model.x_external_normal +\n",
    "        C_external_high_demand * model.x_external_high_demand\n",
    "    ) <= B\n",
    ")\n",
    "\n",
    "# Solve the model using Gurobi\n",
    "solver = SolverFactory('glpk')  # Gurobi solver\n",
    "result = solver.solve(model, tee=True)\n",
    "\n",
    "# Display results\n",
    "print(\"Optimal Solution:\")\n",
    "print(f\"Internal Maintenance Actions (x_internal): {model.x_internal.value}\")\n",
    "print(f\"External Maintenance Actions (Normal) (x_external_normal): {model.x_external_normal.value}\")\n",
    "print(f\"External Maintenance Actions (High Demand) (x_external_high_demand): {model.x_external_high_demand.value}\")\n",
    "print(f\"Number of Failures (F_occur): {model.F_occur.value}\")\n",
    "print(f\"Total Cost: {model.TotalCost.expr()}\")\n"
   ]
  }
 ],
 "metadata": {
  "kernelspec": {
   "display_name": "turbine_env",
   "language": "python",
   "name": "python3"
  },
  "language_info": {
   "codemirror_mode": {
    "name": "ipython",
    "version": 3
   },
   "file_extension": ".py",
   "mimetype": "text/x-python",
   "name": "python",
   "nbconvert_exporter": "python",
   "pygments_lexer": "ipython3",
   "version": "3.8.20"
  }
 },
 "nbformat": 4,
 "nbformat_minor": 2
}
