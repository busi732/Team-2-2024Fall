{
 "cells": [
  {
   "cell_type": "code",
   "execution_count": 2,
   "metadata": {},
   "outputs": [],
   "source": [
    "import pandas as pd\n",
    "import logging\n",
    "import matplotlib.pyplot as plt\n",
    "import numpy as np\n",
    "\n",
    "# create an instance of the logger\n",
    "logger = logging.getLogger()\n",
    "\n",
    "# Change current directory to parent directory\n",
    "import os\n",
    "os.chdir(\"..\")"
   ]
  },
  {
   "cell_type": "code",
   "execution_count": 4,
   "metadata": {},
   "outputs": [
    {
     "name": "stdout",
     "output_type": "stream",
     "text": [
      "              DateTime    Time_fault Fault  Time_scada  Error  \\\n",
      "0  2014-05-14 14:39:44  1.400096e+09    GF         NaN    NaN   \n",
      "1  2014-05-14 14:50:24  1.400097e+09    GF         NaN    NaN   \n",
      "2  2014-05-14 14:58:56  1.400098e+09    GF         NaN    NaN   \n",
      "3  2014-05-14 15:09:36  1.400098e+09    GF         NaN    NaN   \n",
      "4  2014-05-14 15:20:16  1.400099e+09    GF         NaN    NaN   \n",
      "\n",
      "   WEC: ava. windspeed  WEC: max. windspeed  WEC: min. windspeed  \\\n",
      "0                  NaN                  NaN                  NaN   \n",
      "1                  NaN                  NaN                  NaN   \n",
      "2                  NaN                  NaN                  NaN   \n",
      "3                  NaN                  NaN                  NaN   \n",
      "4                  NaN                  NaN                  NaN   \n",
      "\n",
      "   WEC: ava. Rotation  WEC: max. Rotation  ...  Inverter averages  \\\n",
      "0                 NaN                 NaN  ...                NaN   \n",
      "1                 NaN                 NaN  ...                NaN   \n",
      "2                 NaN                 NaN  ...                NaN   \n",
      "3                 NaN                 NaN  ...                NaN   \n",
      "4                 NaN                 NaN  ...                NaN   \n",
      "\n",
      "   Inverter std dev  Main Status  Sub Status  Full Status  Status Text   T  \\\n",
      "0               NaN          NaN         NaN          NaN          NaN NaN   \n",
      "1               NaN          NaN         NaN          NaN          NaN NaN   \n",
      "2               NaN          NaN         NaN          NaN          NaN NaN   \n",
      "3               NaN          NaN         NaN          NaN          NaN NaN   \n",
      "4               NaN          NaN         NaN          NaN          NaN NaN   \n",
      "\n",
      "   Service  FaultMsg  Value0  \n",
      "0      NaN       NaN     NaN  \n",
      "1      NaN       NaN     NaN  \n",
      "2      NaN       NaN     NaN  \n",
      "3      NaN       NaN     NaN  \n",
      "4      NaN       NaN     NaN  \n",
      "\n",
      "[5 rows x 76 columns]\n"
     ]
    },
    {
     "name": "stderr",
     "output_type": "stream",
     "text": [
      "/var/folders/f1/tcfth2f16mv8s95myjjfx84h0000gn/T/ipykernel_52230/1649482415.py:7: DtypeWarning: Columns (2,70,71,73,74) have mixed types. Specify dtype option on import or set low_memory=False.\n",
      "  merged_data = pd.read_csv(RAW_PATH_MERGED_DATA)\n"
     ]
    }
   ],
   "source": [
    "# Define global variables\n",
    "RAW_PATH_MERGED_DATA = 'data/processed/merged.csv'\n",
    "\n",
    "# Check if the file exists\n",
    "if os.path.exists(RAW_PATH_MERGED_DATA):\n",
    "    # Load the file\n",
    "    merged_data = pd.read_csv(RAW_PATH_MERGED_DATA)\n",
    "    print(merged_data.head())\n",
    "else:\n",
    "    print(\"File not found:\", RAW_PATH_MERGED_DATA)"
   ]
  },
  {
   "cell_type": "markdown",
   "metadata": {},
   "source": [
    "## Adding Seasonality (High or Low) as Feature for the Model"
   ]
  },
  {
   "cell_type": "markdown",
   "metadata": {},
   "source": [
    "### Based Market Data Season Anaylsis, using Average and Max Settlement Point Price For Each Month In 2014\n",
    "\n",
    "### We determined\n",
    "\n",
    "#### Months of High Seasons as: **['Feb', 'Mar', 'Apr', 'May', 'Jun','Aug']**\n",
    "\n",
    "#### Months of High Seasons as: **['Jan', 'Jul', 'Sep', 'Oct', 'Nov','Dec']**"
   ]
  },
  {
   "cell_type": "code",
   "execution_count": 5,
   "metadata": {},
   "outputs": [
    {
     "name": "stdout",
     "output_type": "stream",
     "text": [
      "             DateTime Month Season\n",
      "0 2014-05-14 14:39:44   May   High\n",
      "1 2014-05-14 14:50:24   May   High\n",
      "2 2014-05-14 14:58:56   May   High\n",
      "3 2014-05-14 15:09:36   May   High\n",
      "4 2014-05-14 15:20:16   May   High\n"
     ]
    }
   ],
   "source": [
    "# Define the mapping for high and low seasons\n",
    "SEASON_MAPPING = {\n",
    "    'Jan': 'Low',\n",
    "    'Feb': 'High',\n",
    "    'Mar': 'High',\n",
    "    'Apr': 'High',\n",
    "    'May': 'High',\n",
    "    'Jun': 'High',\n",
    "    'Jul': 'Low',\n",
    "    'Aug': 'High',\n",
    "    'Sep': 'Low',\n",
    "    'Oct': 'Low',\n",
    "    'Nov': 'Low',\n",
    "    'Dec': 'Low'\n",
    "}\n",
    "\n",
    "# Convert the 'DateTime' column to datetime if not already\n",
    "if 'DateTime' in merged_data.columns:\n",
    "    merged_data['DateTime'] = pd.to_datetime(merged_data['DateTime'])\n",
    "else:\n",
    "    logger.error(\"DateTime column is missing from the dataset.\")\n",
    "\n",
    "# Extract the month from the 'DateTime' column and map it to the season\n",
    "merged_data['Month'] = merged_data['DateTime'].dt.strftime('%b')  # Extract month abbreviation\n",
    "merged_data['Season'] = merged_data['Month'].map(SEASON_MAPPING)  # Map month to season\n",
    "\n",
    "# Display the updated dataset with the new 'Season' column\n",
    "print(merged_data[['DateTime', 'Month', 'Season']].head())"
   ]
  },
  {
   "cell_type": "markdown",
   "metadata": {},
   "source": [
    "### Analyze season-wise statistics"
   ]
  },
  {
   "cell_type": "code",
   "execution_count": 6,
   "metadata": {},
   "outputs": [
    {
     "name": "stdout",
     "output_type": "stream",
     "text": [
      "  Season WEC: ava. Power         WEC: Production minutes\n",
      "                    mean     max                     sum\n",
      "0   High      840.817974  3070.0                621965.0\n",
      "1    Low     1030.455417  3071.0                791445.0\n"
     ]
    }
   ],
   "source": [
    "\n",
    "\n",
    "# Optional: Analyze season-wise statistics\n",
    "season_stats = merged_data.groupby('Season').agg({\n",
    "    'WEC: ava. Power': ['mean', 'max'],  # Example columns for analysis\n",
    "    'WEC: Production minutes': 'sum'\n",
    "}).reset_index()\n",
    "\n",
    "# Display the season-wise stats\n",
    "print(season_stats)"
   ]
  },
  {
   "cell_type": "markdown",
   "metadata": {},
   "source": [
    "### Adding Change in Wind as feature"
   ]
  },
  {
   "cell_type": "code",
   "execution_count": 7,
   "metadata": {},
   "outputs": [],
   "source": [
    "# Ensure the 'WEC: ava. windspeed' column exists\n",
    "if 'WEC: ava. windspeed' in merged_data.columns:\n",
    "    # Calculate the wind change while handling nulls\n",
    "    merged_data['Wind Change'] = merged_data['WEC: ava. windspeed'].fillna(method='ffill').diff()\n",
    "\n",
    "    # Retain nulls in the new column where original column had nulls\n",
    "    merged_data.loc[merged_data['WEC: ava. windspeed'].isnull(), 'Wind Change'] = None\n",
    "else:\n",
    "    logger.error(\"'WEC: ava. windspeed' column is missing from the dataset.\")"
   ]
  },
  {
   "cell_type": "markdown",
   "metadata": {},
   "source": [
    "### Adding Change in Energy as Feature"
   ]
  },
  {
   "cell_type": "code",
   "execution_count": 8,
   "metadata": {},
   "outputs": [],
   "source": [
    "# Ensure the 'WEC: Production kWh' column exists\n",
    "if 'WEC: Production kWh' in merged_data.columns:\n",
    "    # Calculate the energy change while handling nulls\n",
    "    merged_data['Energy Change'] = merged_data['WEC: Production kWh'].fillna(method='ffill').diff()\n",
    "\n",
    "    # Retain nulls in the new column where the original column had nulls\n",
    "    merged_data.loc[merged_data['WEC: Production kWh'].isnull(), 'Energy Change'] = None\n",
    "else:\n",
    "    logger.error(\"'WEC: Production kWh' column is missing from the dataset.\")"
   ]
  },
  {
   "cell_type": "markdown",
   "metadata": {},
   "source": [
    "### Adding Efficiency as Energy per Unit of Wind Speed\n",
    "\n",
    "This measures how efficiently energy is generated relative to wind speed. High productivity would indicate efficient energy conversion."
   ]
  },
  {
   "cell_type": "code",
   "execution_count": 9,
   "metadata": {},
   "outputs": [],
   "source": [
    "# Ensure the necessary columns exist before calculating new features\n",
    "if 'WEC: Production kWh' in merged_data.columns and 'WEC: ava. windspeed' in merged_data.columns:\n",
    "    # Calculate efficiency: Energy per Unit of Wind Speed\n",
    "    merged_data['Efficiency'] = merged_data['Energy Change'] / merged_data['WEC: ava. windspeed']\n",
    "    \n",
    "    # Handle cases where wind speed or energy is null\n",
    "    merged_data.loc[\n",
    "        (merged_data['Energy Change'].isnull()) | (merged_data['WEC: ava. windspeed'].isnull()),\n",
    "        'Efficiency'\n",
    "    ] = None\n",
    "else:\n",
    "    logger.error(\"Columns required for Efficiency ('WEC: Production kWh', 'WEC: ava. windspeed') are missing.\")"
   ]
  },
  {
   "cell_type": "markdown",
   "metadata": {},
   "source": [
    "### Adding Productivity as Energy per Unit of Time\n",
    "\n",
    "This measures energy output per unit of operational time, highlighting periods of high or low performance."
   ]
  },
  {
   "cell_type": "code",
   "execution_count": 10,
   "metadata": {},
   "outputs": [],
   "source": [
    "# Ensure the 'DateTime' column exists to calculate time intervals for Productivity\n",
    "if 'DateTime' in merged_data.columns:\n",
    "    # Convert 'DateTime' to datetime if not already\n",
    "    merged_data['DateTime'] = pd.to_datetime(merged_data['DateTime'], errors='coerce')\n",
    "    \n",
    "    # Sort data by DateTime\n",
    "    merged_data = merged_data.sort_values('DateTime')\n",
    "    \n",
    "    # Calculate the time difference in hours\n",
    "    merged_data['Time Interval (hours)'] = merged_data['DateTime'].diff().dt.total_seconds() / 3600\n",
    "    \n",
    "    # Calculate productivity: Energy per Unit of Time\n",
    "    merged_data['Productivity'] = merged_data['Energy Change'] / merged_data['Time Interval (hours)']\n",
    "    \n",
    "    # Handle cases where time interval or energy is null\n",
    "    merged_data.loc[\n",
    "        (merged_data['Energy Change'].isnull()) | (merged_data['Time Interval (hours)'].isnull()),\n",
    "        'Productivity'\n",
    "    ] = None\n",
    "else:\n",
    "    logger.error(\"'DateTime' column is missing for Productivity calculation.\")"
   ]
  },
  {
   "cell_type": "code",
   "execution_count": 13,
   "metadata": {},
   "outputs": [],
   "source": [
    "from sklearn.decomposition import PCA\n",
    "from sklearn.preprocessing import StandardScaler\n",
    "\n",
    "\n",
    "from sklearn.decomposition import PCA\n",
    "from sklearn.preprocessing import StandardScaler\n",
    "\n",
    "# Select temperature-related columns for PCA\n",
    "temperature_columns = [\n",
    "    'Sys 1 inverter 1 cabinet temp.',\n",
    "    'Sys 1 inverter 2 cabinet temp.',\n",
    "    'Sys 1 inverter 3 cabinet temp.',\n",
    "    'Sys 1 inverter 4 cabinet temp.',\n",
    "    'Sys 1 inverter 5 cabinet temp.',\n",
    "    'Sys 1 inverter 6 cabinet temp.',\n",
    "    'Sys 1 inverter 7 cabinet temp.',\n",
    "    'Sys 2 inverter 1 cabinet temp.',\n",
    "    'Sys 2 inverter 2 cabinet temp.',\n",
    "    'Sys 2 inverter 3 cabinet temp.',\n",
    "    'Sys 2 inverter 4 cabinet temp.',\n",
    "    'Sys 2 inverter 5 cabinet temp.',\n",
    "    'Sys 2 inverter 6 cabinet temp.',\n",
    "    'Sys 2 inverter 7 cabinet temp.',\n",
    "    'Spinner temp.',\n",
    "    'Front bearing temp.',\n",
    "    'Rear bearing temp.',\n",
    "    'Pitch cabinet blade A temp.',\n",
    "    'Pitch cabinet blade B temp.',\n",
    "    'Pitch cabinet blade C temp.',\n",
    "    'Rotor temp. 1',\n",
    "    'Rotor temp. 2',\n",
    "    'Stator temp. 1',\n",
    "    'Stator temp. 2',\n",
    "    'Nacelle ambient temp. 1',\n",
    "    'Nacelle ambient temp. 2',\n",
    "    'Nacelle temp.',\n",
    "    'Nacelle cabinet temp.',\n",
    "    'Main carrier temp.',\n",
    "    'Rectifier cabinet temp.',\n",
    "    'Yaw inverter cabinet temp.',\n",
    "    'Fan inverter cabinet temp.',\n",
    "    'Ambient temp.',\n",
    "    'Tower temp.',\n",
    "    'Control cabinet temp.',\n",
    "    'Transformer temp.'\n",
    "]\n",
    "\n",
    "# Filter the dataset to include only relevant columns\n",
    "temperature_data = merged_data[temperature_columns]\n",
    "\n",
    "# Drop rows with missing values\n",
    "temperature_data_cleaned = temperature_data.dropna()\n",
    "\n",
    "# Standardize the data\n",
    "scaler = StandardScaler()\n",
    "temperature_scaled = scaler.fit_transform(temperature_data_cleaned)\n",
    "\n",
    "# Apply PCA\n",
    "pca = PCA(n_components=1)  # Reduce to a single component for Heat Index"
   ]
  },
  {
   "cell_type": "code",
   "execution_count": null,
   "metadata": {},
   "outputs": [],
   "source": [
    "from sklearn.decomposition import PCA\n",
    "from sklearn.preprocessing import StandardScaler\n",
    "\n",
    "# Select temperature-related columns for PCA\n",
    "temperature_columns = [\n",
    "    'Sys 1 inverter 1 cabinet temp.',\n",
    "    'Sys 1 inverter 2 cabinet temp.',\n",
    "    'Sys 1 inverter 3 cabinet temp.',\n",
    "    'Sys 1 inverter 4 cabinet temp.',\n",
    "    'Sys 1 inverter 5 cabinet temp.',\n",
    "    'Sys 1 inverter 6 cabinet temp.',\n",
    "    'Sys 1 inverter 7 cabinet temp.',\n",
    "    'Sys 2 inverter 1 cabinet temp.',\n",
    "    'Sys 2 inverter 2 cabinet temp.',\n",
    "    'Sys 2 inverter 3 cabinet temp.',\n",
    "    'Sys 2 inverter 4 cabinet temp.',\n",
    "    'Sys 2 inverter 5 cabinet temp.',\n",
    "    'Sys 2 inverter 6 cabinet temp.',\n",
    "    'Sys 2 inverter 7 cabinet temp.',\n",
    "    'Spinner temp.',\n",
    "    'Front bearing temp.',\n",
    "    'Rear bearing temp.',\n",
    "    'Pitch cabinet blade A temp.',\n",
    "    'Pitch cabinet blade B temp.',\n",
    "    'Pitch cabinet blade C temp.',\n",
    "    'Rotor temp. 1',\n",
    "    'Rotor temp. 2',\n",
    "    'Stator temp. 1',\n",
    "    'Stator temp. 2',\n",
    "    'Nacelle ambient temp. 1',\n",
    "    'Nacelle ambient temp. 2',\n",
    "    'Nacelle temp.',\n",
    "    'Nacelle cabinet temp.',\n",
    "    'Main carrier temp.',\n",
    "    'Rectifier cabinet temp.',\n",
    "    'Yaw inverter cabinet temp.',\n",
    "    'Fan inverter cabinet temp.',\n",
    "    'Ambient temp.',\n",
    "    'Tower temp.',\n",
    "    'Control cabinet temp.',\n",
    "    'Transformer temp.'\n",
    "]\n",
    "\n",
    "# Filter the dataset to include only relevant columns\n",
    "temperature_data = merged_data[temperature_columns]\n",
    "\n",
    "# Drop rows with missing values\n",
    "temperature_data_cleaned = temperature_data.dropna()\n",
    "\n",
    "# Standardize the data\n",
    "scaler = StandardScaler()\n",
    "temperature_scaled = scaler.fit_transform(temperature_data_cleaned)"
   ]
  },
  {
   "cell_type": "code",
   "execution_count": 15,
   "metadata": {},
   "outputs": [
    {
     "data": {
      "image/png": "[encoded data removed]",
      "text/plain": [
       "<Figure size 1000x600 with 1 Axes>"
      ]
     },
     "metadata": {},
     "output_type": "display_data"
    }
   ],
   "source": [
    "import matplotlib.pyplot as plt\n",
    "\n",
    "# Fit PCA to explore explained variance\n",
    "pca_full = PCA()\n",
    "pca_full.fit(temperature_scaled)\n",
    "\n",
    "# Plot the explained variance ratio for all components\n",
    "plt.figure(figsize=(10, 6))\n",
    "plt.plot(range(1, len(pca_full.explained_variance_ratio_) + 1), \n",
    "         np.cumsum(pca_full.explained_variance_ratio_), marker='o', linestyle='--')\n",
    "plt.title('Explained Variance by Principal Components')\n",
    "plt.xlabel('Number of Principal Components')\n",
    "plt.ylabel('Cumulative Explained Variance')\n",
    "plt.grid()\n",
    "plt.show()"
   ]
  },
  {
   "cell_type": "markdown",
   "metadata": {},
   "source": [
    "The first 5-6 components explain a significant portion of the variance (~90% cumulative variance). This suggests that the temperature-related data has a strong underlying structure, and most of the information can be captured by these component.\n",
    "\n",
    "**Using only the first principal component (PC1) for the Heat Index should work well, as it captures the most significant variance in the temperature data, about 81% of the explained variance comes from the PC1.** "
   ]
  },
  {
   "cell_type": "code",
   "execution_count": 16,
   "metadata": {},
   "outputs": [],
   "source": [
    "# Apply PCA\n",
    "pca = PCA(n_components=1)  # Reduce to a single component for Heat Index\n",
    "heat_index = pca.fit_transform(temperature_scaled)\n",
    "\n",
    "# Add the Heat Index back to the original dataset (aligning indices)\n",
    "merged_data['Heat Index'] = pd.Series(heat_index.flatten(), index=temperature_data_cleaned.index)\n",
    "\n",
    "# Calculate Heat Deviation\n",
    "heat_index_mean = merged_data['Heat Index'].mean()\n",
    "merged_data['Heat Deviation'] = merged_data['Heat Index'] - heat_index_mean\n"
   ]
  },
  {
   "cell_type": "code",
   "execution_count": 17,
   "metadata": {},
   "outputs": [
    {
     "name": "stdout",
     "output_type": "stream",
     "text": [
      "Updated dataset with 'New Features' column saved to data/processed/merged_with_features.csv\n"
     ]
    }
   ],
   "source": [
    "# Save the updated dataset if needed\n",
    "UPDATED_PATH = 'data/processed/merged_with_features.csv'\n",
    "merged_data.to_csv(UPDATED_PATH, index=False)\n",
    "print(f\"Updated dataset with 'New Features' column saved to {UPDATED_PATH}\")"
   ]
  }
 ],
 "metadata": {
  "kernelspec": {
   "display_name": "turbine_env",
   "language": "python",
   "name": "python3"
  },
  "language_info": {
   "codemirror_mode": {
    "name": "ipython",
    "version": 3
   },
   "file_extension": ".py",
   "mimetype": "text/x-python",
   "name": "python",
   "nbconvert_exporter": "python",
   "pygments_lexer": "ipython3",
   "version": "3.8.20"
  }
 },
 "nbformat": 4,
 "nbformat_minor": 2
}
