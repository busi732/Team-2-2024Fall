{
 "cells": [
  {
   "cell_type": "code",
   "execution_count": 1,
   "metadata": {},
   "outputs": [],
   "source": [
    "# Change current directory to parent directory\n",
    "import os\n",
    "os.chdir(\"..\")\n",
    "\n",
    "from src.data_ingestion import *"
   ]
  },
  {
   "cell_type": "code",
   "execution_count": 2,
   "metadata": {},
   "outputs": [
    {
     "name": "stdout",
     "output_type": "stream",
     "text": [
      "fault data shape: (553, 3)\n",
      "scada data shape: (49027, 66)\n",
      "status data shape: (1849, 9)\n"
     ]
    }
   ],
   "source": [
    "# Test read_data function\n",
    "names = ['fault', 'scada', 'status']\n",
    "\n",
    "for name in names:\n",
    "    print(f'{name} data shape: {read_data(name).shape}')"
   ]
  },
  {
   "cell_type": "code",
   "execution_count": 3,
   "metadata": {},
   "outputs": [
    {
     "name": "stdout",
     "output_type": "stream",
     "text": [
      "merged data shape: (49556, 67)\n"
     ]
    }
   ],
   "source": [
    "# Test merge_data function\n",
    "df_fault_scada = merge_fault_scada(export=True)\n",
    "print(f'merged data shape: {df_fault_scada.shape}')"
   ]
  },
  {
   "cell_type": "code",
   "execution_count": 4,
   "metadata": {},
   "outputs": [
    {
     "name": "stderr",
     "output_type": "stream",
     "text": [
      "No such file or directory: data/raw/error.csv\n"
     ]
    }
   ],
   "source": [
    "# Test error handling for read_data function\n",
    "read_data('error')"
   ]
  }
 ],
 "metadata": {
  "kernelspec": {
   "display_name": "turbine_env",
   "language": "python",
   "name": "python3"
  },
  "language_info": {
   "codemirror_mode": {
    "name": "ipython",
    "version": 3
   },
   "file_extension": ".py",
   "mimetype": "text/x-python",
   "name": "python",
   "nbconvert_exporter": "python",
   "pygments_lexer": "ipython3",
   "version": "3.8.20"
  }
 },
 "nbformat": 4,
 "nbformat_minor": 2
}
