{
 "cells": [
  {
   "cell_type": "code",
   "execution_count": 3,
   "metadata": {},
   "outputs": [],
   "source": [
    "class JaviClass:\n",
    "    '''Tester class that says hello, goodbye, and can add.'''\n",
    "\n",
    "    def __init__(self):\n",
    "        '''This method gets called when the class is instantiated.'''\n",
    "        self.greet = 'Hello, world!'\n",
    "        self.goodbye = 'Goodbye, world'\n",
    "\n",
    "    def say_hi(self):\n",
    "        '''Javier says hello.'''\n",
    "        print(self.greet)\n",
    "\n",
    "    def say_bye(self):\n",
    "        '''Javier says goodbye.'''\n",
    "        print(self.goodbye)\n",
    "\n",
    "    def add(self, x: float, y: float):\n",
    "        '''\n",
    "        Add two numbers together.\n",
    "\n",
    "        Parameters:\n",
    "            x: float\n",
    "                First number to add.\n",
    "            y: float\n",
    "                Second number to add.\n",
    "\n",
    "        Returns:\n",
    "            x + y: float\n",
    "                The two parameters added together.\n",
    "        '''\n",
    "        return x + y"
   ]
  },
  {
   "cell_type": "code",
   "execution_count": 4,
   "metadata": {},
   "outputs": [
    {
     "name": "stdout",
     "output_type": "stream",
     "text": [
      "Hello, world!\n",
      "7\n",
      "Goodbye, world\n"
     ]
    }
   ],
   "source": [
    "# Instantiate the class\n",
    "javier = JaviClass()\n",
    "\n",
    "# Say hello\n",
    "javier.say_hi()\n",
    "\n",
    "# Add two numbers\n",
    "ans = javier.add(3, 4)\n",
    "print(ans)\n",
    "\n",
    "# Say goodbye\n",
    "javier.say_bye()"
   ]
  }
 ],
 "metadata": {
  "kernelspec": {
   "display_name": "turbine_env",
   "language": "python",
   "name": "python3"
  },
  "language_info": {
   "codemirror_mode": {
    "name": "ipython",
    "version": 3
   },
   "file_extension": ".py",
   "mimetype": "text/x-python",
   "name": "python",
   "nbconvert_exporter": "python",
   "pygments_lexer": "ipython3",
   "version": "3.8.20"
  }
 },
 "nbformat": 4,
 "nbformat_minor": 2
}
