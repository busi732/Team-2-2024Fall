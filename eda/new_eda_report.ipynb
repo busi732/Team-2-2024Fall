{
 "cells": [
  {
   "cell_type": "markdown",
   "metadata": {},
   "source": [
    "# Data Analytics and Classification Model for Failure Detection of Wind Turbine from IIoT Data"
   ]
  },
  {
   "cell_type": "code",
   "execution_count": null,
   "metadata": {
    "_cell_guid": "b1076dfc-b9ad-4769-8c92-a6c4dae69d19",
    "_uuid": "8f2839f25d086af736a60e9eeb907d3b93b6e0e5",
    "execution": {
     "iopub.execute_input": "2021-11-29T16:20:38.983235Z",
     "iopub.status.busy": "2021-11-29T16:20:38.982909Z",
     "iopub.status.idle": "2021-11-29T16:20:39.000182Z",
     "shell.execute_reply": "2021-11-29T16:20:38.999357Z",
     "shell.execute_reply.started": "2021-11-29T16:20:38.983202Z"
    },
    "trusted": true
   },
   "outputs": [
    {
     "name": "stdout",
     "output_type": "stream",
     "text": [
      "../data/raw\\fault.csv\n",
      "../data/raw\\scada.csv\n",
      "../data/raw\\status.csv\n"
     ]
    }
   ],
   "source": [
    "# This Python 3 environment comes with many helpful analytics libraries installed\n",
    "# It is defined by the kaggle/python Docker image: https://github.com/kaggle/docker-python\n",
    "# For example, here's several helpful packages to load\n",
    "\n",
    "import numpy as np # linear algebra\n",
    "import pandas as pd # data processing, CSV file I/O (e.g. pd.read_csv)\n",
    "\n",
    "# Input data files are available in the read-only \"../input/\" directory\n",
    "# For example, running this (by clicking run or pressing Shift+Enter) will list all files under the input directory\n",
    "\n",
    "#os.getcwd() = TEAM-2-2024Fall/eda\n",
    "\n"
   ]
  },
  {
   "cell_type": "code",
   "execution_count": 24,
   "metadata": {
    "execution": {
     "iopub.execute_input": "2021-11-29T16:20:39.002095Z",
     "iopub.status.busy": "2021-11-29T16:20:39.001548Z",
     "iopub.status.idle": "2021-11-29T16:20:41.55931Z",
     "shell.execute_reply": "2021-11-29T16:20:41.558642Z",
     "shell.execute_reply.started": "2021-11-29T16:20:39.002062Z"
    },
    "trusted": true
   },
   "outputs": [
    {
     "ename": "ImportError",
     "evalue": "cannot import name 'plot_confusion_matrix' from 'sklearn.metrics' (c:\\Users\\teren\\anaconda3\\envs\\tt_1113\\lib\\site-packages\\sklearn\\metrics\\__init__.py)",
     "output_type": "error",
     "traceback": [
      "\u001b[1;31m---------------------------------------------------------------------------\u001b[0m",
      "\u001b[1;31mImportError\u001b[0m                               Traceback (most recent call last)",
      "Cell \u001b[1;32mIn[24], line 9\u001b[0m\n\u001b[0;32m      7\u001b[0m \u001b[38;5;28;01mfrom\u001b[39;00m \u001b[38;5;21;01msklearn\u001b[39;00m\u001b[38;5;21;01m.\u001b[39;00m\u001b[38;5;21;01mmodel_selection\u001b[39;00m \u001b[38;5;28;01mimport\u001b[39;00m train_test_split, cross_validate, StratifiedKFold, GridSearchCV\n\u001b[0;32m      8\u001b[0m \u001b[38;5;28;01mfrom\u001b[39;00m \u001b[38;5;21;01msklearn\u001b[39;00m\u001b[38;5;21;01m.\u001b[39;00m\u001b[38;5;21;01mpreprocessing\u001b[39;00m \u001b[38;5;28;01mimport\u001b[39;00m StandardScaler\n\u001b[1;32m----> 9\u001b[0m \u001b[38;5;28;01mfrom\u001b[39;00m \u001b[38;5;21;01msklearn\u001b[39;00m\u001b[38;5;21;01m.\u001b[39;00m\u001b[38;5;21;01mmetrics\u001b[39;00m \u001b[38;5;28;01mimport\u001b[39;00m plot_confusion_matrix, classification_report\n\u001b[0;32m     10\u001b[0m \u001b[38;5;66;03m# from lightgbm import LGBMClassifier\u001b[39;00m\n\u001b[0;32m     12\u001b[0m get_ipython()\u001b[38;5;241m.\u001b[39mrun_line_magic(\u001b[38;5;124m'\u001b[39m\u001b[38;5;124mconfig\u001b[39m\u001b[38;5;124m'\u001b[39m, \u001b[38;5;124m\"\u001b[39m\u001b[38;5;124mInlineBackend.figure_format = \u001b[39m\u001b[38;5;124m'\u001b[39m\u001b[38;5;124mretina\u001b[39m\u001b[38;5;124m'\u001b[39m\u001b[38;5;124m\"\u001b[39m)\n",
      "\u001b[1;31mImportError\u001b[0m: cannot import name 'plot_confusion_matrix' from 'sklearn.metrics' (c:\\Users\\teren\\anaconda3\\envs\\tt_1113\\lib\\site-packages\\sklearn\\metrics\\__init__.py)"
     ]
    }
   ],
   "source": [
    "import matplotlib.pyplot as plt\n",
    "import missingno as msno\n",
    "import seaborn as sns\n",
    "\n",
    "# from imblearn.over_sampling import SMOTE\n",
    "# from imblearn.pipeline import make_pipeline\n",
    "from sklearn.model_selection import train_test_split, cross_validate, StratifiedKFold, GridSearchCV\n",
    "from sklearn.preprocessing import StandardScaler\n",
    "from sklearn.metrics import plot_confusion_matrix, classification_report\n",
    "# from lightgbm import LGBMClassifier\n",
    "\n",
    "%config InlineBackend.figure_format = 'retina'"
   ]
  },
  {
   "cell_type": "code",
   "execution_count": null,
   "metadata": {},
   "outputs": [],
   "source": []
  },
  {
   "cell_type": "markdown",
   "metadata": {},
   "source": [
    "# 1. Read data"
   ]
  },
  {
   "cell_type": "markdown",
   "metadata": {},
   "source": [
    "We have 3 data:\n",
    "\n",
    "* `scada_data.csv`: Contains >60 information (or status) of wind turbine components recorded by SCADA system\n",
    "* `fault_data.csv`: Contains wind turbine fault types (or modes)\n",
    "* `status_data.csv`: Contains description of status of wind turbine operational"
   ]
  },
  {
   "cell_type": "code",
   "execution_count": null,
   "metadata": {},
   "outputs": [
    {
     "name": "stdout",
     "output_type": "stream",
     "text": [
      "not there yet\n",
      "raw\n"
     ]
    }
   ],
   "source": [
    "# acess the raw data file in data/raw\n",
    "if os.getcwd()[-1] != 'raw':\n",
    "    print('not there yet')\n",
    "    print(os.getcwd()[-3:])"
   ]
  },
  {
   "cell_type": "code",
   "execution_count": 39,
   "metadata": {
    "execution": {
     "iopub.execute_input": "2021-11-29T16:20:41.560902Z",
     "iopub.status.busy": "2021-11-29T16:20:41.560317Z",
     "iopub.status.idle": "2021-11-29T16:20:47.075456Z",
     "shell.execute_reply": "2021-11-29T16:20:47.074699Z",
     "shell.execute_reply.started": "2021-11-29T16:20:41.560851Z"
    },
    "trusted": true
   },
   "outputs": [
    {
     "name": "stdout",
     "output_type": "stream",
     "text": [
      "c:\\Users\\teren\\OneDrive\\桌面\\Rice\\Course\\2024Fall\\BUSI7QuantitativeResearch\\1117github\\Team-2-2024Fall\\data\\raw\n",
      "c:\\Users\\teren\\OneDrive\\桌面\\Rice\\Course\\2024Fall\\BUSI7QuantitativeResearch\\1117github\\Team-2-2024Fall\\data\\raw\n",
      "['fault.csv', 'scada.csv', 'status.csv']\n"
     ]
    },
    {
     "data": {
      "text/html": [
       "<div>\n",
       "<style scoped>\n",
       "    .dataframe tbody tr th:only-of-type {\n",
       "        vertical-align: middle;\n",
       "    }\n",
       "\n",
       "    .dataframe tbody tr th {\n",
       "        vertical-align: top;\n",
       "    }\n",
       "\n",
       "    .dataframe thead th {\n",
       "        text-align: right;\n",
       "    }\n",
       "</style>\n",
       "<table border=\"1\" class=\"dataframe\">\n",
       "  <thead>\n",
       "    <tr style=\"text-align: right;\">\n",
       "      <th></th>\n",
       "      <th>Time</th>\n",
       "      <th>Error</th>\n",
       "      <th>WEC: ava. windspeed</th>\n",
       "      <th>WEC: max. windspeed</th>\n",
       "      <th>WEC: min. windspeed</th>\n",
       "      <th>WEC: ava. Rotation</th>\n",
       "      <th>WEC: max. Rotation</th>\n",
       "      <th>WEC: min. Rotation</th>\n",
       "      <th>WEC: ava. Power</th>\n",
       "      <th>WEC: max. Power</th>\n",
       "      <th>...</th>\n",
       "      <th>Rectifier cabinet temp.</th>\n",
       "      <th>Yaw inverter cabinet temp.</th>\n",
       "      <th>Fan inverter cabinet temp.</th>\n",
       "      <th>Ambient temp.</th>\n",
       "      <th>Tower temp.</th>\n",
       "      <th>Control cabinet temp.</th>\n",
       "      <th>Transformer temp.</th>\n",
       "      <th>RTU: ava. Setpoint 1</th>\n",
       "      <th>Inverter averages</th>\n",
       "      <th>Inverter std dev</th>\n",
       "    </tr>\n",
       "    <tr>\n",
       "      <th>DateTime</th>\n",
       "      <th></th>\n",
       "      <th></th>\n",
       "      <th></th>\n",
       "      <th></th>\n",
       "      <th></th>\n",
       "      <th></th>\n",
       "      <th></th>\n",
       "      <th></th>\n",
       "      <th></th>\n",
       "      <th></th>\n",
       "      <th></th>\n",
       "      <th></th>\n",
       "      <th></th>\n",
       "      <th></th>\n",
       "      <th></th>\n",
       "      <th></th>\n",
       "      <th></th>\n",
       "      <th></th>\n",
       "      <th></th>\n",
       "      <th></th>\n",
       "      <th></th>\n",
       "    </tr>\n",
       "  </thead>\n",
       "  <tbody>\n",
       "    <tr>\n",
       "      <th>2014-05-01 00:00:00</th>\n",
       "      <td>1398920448</td>\n",
       "      <td>0</td>\n",
       "      <td>6.9</td>\n",
       "      <td>9.4</td>\n",
       "      <td>2.9</td>\n",
       "      <td>0.00</td>\n",
       "      <td>0.02</td>\n",
       "      <td>0.00</td>\n",
       "      <td>0</td>\n",
       "      <td>0</td>\n",
       "      <td>...</td>\n",
       "      <td>24</td>\n",
       "      <td>20</td>\n",
       "      <td>25</td>\n",
       "      <td>12</td>\n",
       "      <td>14</td>\n",
       "      <td>24</td>\n",
       "      <td>34</td>\n",
       "      <td>2501</td>\n",
       "      <td>25.272728</td>\n",
       "      <td>1.103713</td>\n",
       "    </tr>\n",
       "    <tr>\n",
       "      <th>2014-05-01 00:09:00</th>\n",
       "      <td>1398920960</td>\n",
       "      <td>0</td>\n",
       "      <td>5.3</td>\n",
       "      <td>8.9</td>\n",
       "      <td>1.6</td>\n",
       "      <td>0.00</td>\n",
       "      <td>0.01</td>\n",
       "      <td>0.00</td>\n",
       "      <td>0</td>\n",
       "      <td>0</td>\n",
       "      <td>...</td>\n",
       "      <td>24</td>\n",
       "      <td>20</td>\n",
       "      <td>25</td>\n",
       "      <td>12</td>\n",
       "      <td>14</td>\n",
       "      <td>24</td>\n",
       "      <td>34</td>\n",
       "      <td>2501</td>\n",
       "      <td>25.272728</td>\n",
       "      <td>1.103713</td>\n",
       "    </tr>\n",
       "    <tr>\n",
       "      <th>2014-05-01 00:20:00</th>\n",
       "      <td>1398921600</td>\n",
       "      <td>0</td>\n",
       "      <td>5.0</td>\n",
       "      <td>9.5</td>\n",
       "      <td>1.4</td>\n",
       "      <td>0.00</td>\n",
       "      <td>0.04</td>\n",
       "      <td>0.00</td>\n",
       "      <td>0</td>\n",
       "      <td>0</td>\n",
       "      <td>...</td>\n",
       "      <td>24</td>\n",
       "      <td>20</td>\n",
       "      <td>25</td>\n",
       "      <td>12</td>\n",
       "      <td>14</td>\n",
       "      <td>24</td>\n",
       "      <td>34</td>\n",
       "      <td>2501</td>\n",
       "      <td>25.272728</td>\n",
       "      <td>1.103713</td>\n",
       "    </tr>\n",
       "    <tr>\n",
       "      <th>2014-05-01 00:30:00</th>\n",
       "      <td>1398922240</td>\n",
       "      <td>0</td>\n",
       "      <td>4.4</td>\n",
       "      <td>8.3</td>\n",
       "      <td>1.3</td>\n",
       "      <td>0.00</td>\n",
       "      <td>0.08</td>\n",
       "      <td>0.00</td>\n",
       "      <td>0</td>\n",
       "      <td>0</td>\n",
       "      <td>...</td>\n",
       "      <td>23</td>\n",
       "      <td>21</td>\n",
       "      <td>25</td>\n",
       "      <td>12</td>\n",
       "      <td>14</td>\n",
       "      <td>24</td>\n",
       "      <td>34</td>\n",
       "      <td>2501</td>\n",
       "      <td>25.272728</td>\n",
       "      <td>1.103713</td>\n",
       "    </tr>\n",
       "    <tr>\n",
       "      <th>2014-05-01 00:39:00</th>\n",
       "      <td>1398922752</td>\n",
       "      <td>0</td>\n",
       "      <td>5.7</td>\n",
       "      <td>9.7</td>\n",
       "      <td>1.2</td>\n",
       "      <td>0.00</td>\n",
       "      <td>0.05</td>\n",
       "      <td>0.00</td>\n",
       "      <td>0</td>\n",
       "      <td>0</td>\n",
       "      <td>...</td>\n",
       "      <td>23</td>\n",
       "      <td>21</td>\n",
       "      <td>25</td>\n",
       "      <td>12</td>\n",
       "      <td>14</td>\n",
       "      <td>23</td>\n",
       "      <td>34</td>\n",
       "      <td>2501</td>\n",
       "      <td>25.272728</td>\n",
       "      <td>1.103713</td>\n",
       "    </tr>\n",
       "    <tr>\n",
       "      <th>...</th>\n",
       "      <td>...</td>\n",
       "      <td>...</td>\n",
       "      <td>...</td>\n",
       "      <td>...</td>\n",
       "      <td>...</td>\n",
       "      <td>...</td>\n",
       "      <td>...</td>\n",
       "      <td>...</td>\n",
       "      <td>...</td>\n",
       "      <td>...</td>\n",
       "      <td>...</td>\n",
       "      <td>...</td>\n",
       "      <td>...</td>\n",
       "      <td>...</td>\n",
       "      <td>...</td>\n",
       "      <td>...</td>\n",
       "      <td>...</td>\n",
       "      <td>...</td>\n",
       "      <td>...</td>\n",
       "      <td>...</td>\n",
       "      <td>...</td>\n",
       "    </tr>\n",
       "    <tr>\n",
       "      <th>2015-04-08 23:20:00</th>\n",
       "      <td>1428553216</td>\n",
       "      <td>0</td>\n",
       "      <td>3.9</td>\n",
       "      <td>5.5</td>\n",
       "      <td>2.2</td>\n",
       "      <td>6.75</td>\n",
       "      <td>7.40</td>\n",
       "      <td>6.01</td>\n",
       "      <td>147</td>\n",
       "      <td>277</td>\n",
       "      <td>...</td>\n",
       "      <td>33</td>\n",
       "      <td>23</td>\n",
       "      <td>28</td>\n",
       "      <td>9</td>\n",
       "      <td>17</td>\n",
       "      <td>27</td>\n",
       "      <td>35</td>\n",
       "      <td>3050</td>\n",
       "      <td>24.454546</td>\n",
       "      <td>3.474583</td>\n",
       "    </tr>\n",
       "    <tr>\n",
       "      <th>2015-04-08 23:30:00</th>\n",
       "      <td>1428553856</td>\n",
       "      <td>0</td>\n",
       "      <td>3.9</td>\n",
       "      <td>5.6</td>\n",
       "      <td>2.9</td>\n",
       "      <td>6.64</td>\n",
       "      <td>7.06</td>\n",
       "      <td>6.33</td>\n",
       "      <td>128</td>\n",
       "      <td>191</td>\n",
       "      <td>...</td>\n",
       "      <td>34</td>\n",
       "      <td>23</td>\n",
       "      <td>28</td>\n",
       "      <td>9</td>\n",
       "      <td>17</td>\n",
       "      <td>27</td>\n",
       "      <td>35</td>\n",
       "      <td>3050</td>\n",
       "      <td>24.454546</td>\n",
       "      <td>3.445683</td>\n",
       "    </tr>\n",
       "    <tr>\n",
       "      <th>2015-04-08 23:39:00</th>\n",
       "      <td>1428554368</td>\n",
       "      <td>0</td>\n",
       "      <td>4.2</td>\n",
       "      <td>6.7</td>\n",
       "      <td>2.6</td>\n",
       "      <td>7.18</td>\n",
       "      <td>8.83</td>\n",
       "      <td>6.22</td>\n",
       "      <td>163</td>\n",
       "      <td>329</td>\n",
       "      <td>...</td>\n",
       "      <td>34</td>\n",
       "      <td>23</td>\n",
       "      <td>28</td>\n",
       "      <td>9</td>\n",
       "      <td>18</td>\n",
       "      <td>27</td>\n",
       "      <td>34</td>\n",
       "      <td>3050</td>\n",
       "      <td>24.363636</td>\n",
       "      <td>3.413876</td>\n",
       "    </tr>\n",
       "    <tr>\n",
       "      <th>2015-04-08 23:50:00</th>\n",
       "      <td>1428555008</td>\n",
       "      <td>0</td>\n",
       "      <td>4.1</td>\n",
       "      <td>6.6</td>\n",
       "      <td>2.7</td>\n",
       "      <td>7.02</td>\n",
       "      <td>7.94</td>\n",
       "      <td>6.20</td>\n",
       "      <td>160</td>\n",
       "      <td>344</td>\n",
       "      <td>...</td>\n",
       "      <td>33</td>\n",
       "      <td>23</td>\n",
       "      <td>28</td>\n",
       "      <td>9</td>\n",
       "      <td>17</td>\n",
       "      <td>27</td>\n",
       "      <td>34</td>\n",
       "      <td>3050</td>\n",
       "      <td>24.000000</td>\n",
       "      <td>3.376389</td>\n",
       "    </tr>\n",
       "    <tr>\n",
       "      <th>2015-04-09 00:00:00</th>\n",
       "      <td>1428555648</td>\n",
       "      <td>0</td>\n",
       "      <td>4.8</td>\n",
       "      <td>6.0</td>\n",
       "      <td>3.3</td>\n",
       "      <td>8.39</td>\n",
       "      <td>9.48</td>\n",
       "      <td>7.14</td>\n",
       "      <td>284</td>\n",
       "      <td>458</td>\n",
       "      <td>...</td>\n",
       "      <td>33</td>\n",
       "      <td>22</td>\n",
       "      <td>28</td>\n",
       "      <td>9</td>\n",
       "      <td>17</td>\n",
       "      <td>27</td>\n",
       "      <td>34</td>\n",
       "      <td>3050</td>\n",
       "      <td>23.818182</td>\n",
       "      <td>3.250175</td>\n",
       "    </tr>\n",
       "  </tbody>\n",
       "</table>\n",
       "<p>49027 rows × 65 columns</p>\n",
       "</div>"
      ],
      "text/plain": [
       "                           Time  Error  WEC: ava. windspeed  \\\n",
       "DateTime                                                      \n",
       "2014-05-01 00:00:00  1398920448      0                  6.9   \n",
       "2014-05-01 00:09:00  1398920960      0                  5.3   \n",
       "2014-05-01 00:20:00  1398921600      0                  5.0   \n",
       "2014-05-01 00:30:00  1398922240      0                  4.4   \n",
       "2014-05-01 00:39:00  1398922752      0                  5.7   \n",
       "...                         ...    ...                  ...   \n",
       "2015-04-08 23:20:00  1428553216      0                  3.9   \n",
       "2015-04-08 23:30:00  1428553856      0                  3.9   \n",
       "2015-04-08 23:39:00  1428554368      0                  4.2   \n",
       "2015-04-08 23:50:00  1428555008      0                  4.1   \n",
       "2015-04-09 00:00:00  1428555648      0                  4.8   \n",
       "\n",
       "                     WEC: max. windspeed  WEC: min. windspeed  \\\n",
       "DateTime                                                        \n",
       "2014-05-01 00:00:00                  9.4                  2.9   \n",
       "2014-05-01 00:09:00                  8.9                  1.6   \n",
       "2014-05-01 00:20:00                  9.5                  1.4   \n",
       "2014-05-01 00:30:00                  8.3                  1.3   \n",
       "2014-05-01 00:39:00                  9.7                  1.2   \n",
       "...                                  ...                  ...   \n",
       "2015-04-08 23:20:00                  5.5                  2.2   \n",
       "2015-04-08 23:30:00                  5.6                  2.9   \n",
       "2015-04-08 23:39:00                  6.7                  2.6   \n",
       "2015-04-08 23:50:00                  6.6                  2.7   \n",
       "2015-04-09 00:00:00                  6.0                  3.3   \n",
       "\n",
       "                     WEC: ava. Rotation  WEC: max. Rotation  \\\n",
       "DateTime                                                      \n",
       "2014-05-01 00:00:00                0.00                0.02   \n",
       "2014-05-01 00:09:00                0.00                0.01   \n",
       "2014-05-01 00:20:00                0.00                0.04   \n",
       "2014-05-01 00:30:00                0.00                0.08   \n",
       "2014-05-01 00:39:00                0.00                0.05   \n",
       "...                                 ...                 ...   \n",
       "2015-04-08 23:20:00                6.75                7.40   \n",
       "2015-04-08 23:30:00                6.64                7.06   \n",
       "2015-04-08 23:39:00                7.18                8.83   \n",
       "2015-04-08 23:50:00                7.02                7.94   \n",
       "2015-04-09 00:00:00                8.39                9.48   \n",
       "\n",
       "                     WEC: min. Rotation  WEC: ava. Power  WEC: max. Power  \\\n",
       "DateTime                                                                    \n",
       "2014-05-01 00:00:00                0.00                0                0   \n",
       "2014-05-01 00:09:00                0.00                0                0   \n",
       "2014-05-01 00:20:00                0.00                0                0   \n",
       "2014-05-01 00:30:00                0.00                0                0   \n",
       "2014-05-01 00:39:00                0.00                0                0   \n",
       "...                                 ...              ...              ...   \n",
       "2015-04-08 23:20:00                6.01              147              277   \n",
       "2015-04-08 23:30:00                6.33              128              191   \n",
       "2015-04-08 23:39:00                6.22              163              329   \n",
       "2015-04-08 23:50:00                6.20              160              344   \n",
       "2015-04-09 00:00:00                7.14              284              458   \n",
       "\n",
       "                     ...  Rectifier cabinet temp.  Yaw inverter cabinet temp.  \\\n",
       "DateTime             ...                                                        \n",
       "2014-05-01 00:00:00  ...                       24                          20   \n",
       "2014-05-01 00:09:00  ...                       24                          20   \n",
       "2014-05-01 00:20:00  ...                       24                          20   \n",
       "2014-05-01 00:30:00  ...                       23                          21   \n",
       "2014-05-01 00:39:00  ...                       23                          21   \n",
       "...                  ...                      ...                         ...   \n",
       "2015-04-08 23:20:00  ...                       33                          23   \n",
       "2015-04-08 23:30:00  ...                       34                          23   \n",
       "2015-04-08 23:39:00  ...                       34                          23   \n",
       "2015-04-08 23:50:00  ...                       33                          23   \n",
       "2015-04-09 00:00:00  ...                       33                          22   \n",
       "\n",
       "                     Fan inverter cabinet temp.  Ambient temp.  Tower temp.  \\\n",
       "DateTime                                                                      \n",
       "2014-05-01 00:00:00                          25             12           14   \n",
       "2014-05-01 00:09:00                          25             12           14   \n",
       "2014-05-01 00:20:00                          25             12           14   \n",
       "2014-05-01 00:30:00                          25             12           14   \n",
       "2014-05-01 00:39:00                          25             12           14   \n",
       "...                                         ...            ...          ...   \n",
       "2015-04-08 23:20:00                          28              9           17   \n",
       "2015-04-08 23:30:00                          28              9           17   \n",
       "2015-04-08 23:39:00                          28              9           18   \n",
       "2015-04-08 23:50:00                          28              9           17   \n",
       "2015-04-09 00:00:00                          28              9           17   \n",
       "\n",
       "                     Control cabinet temp.  Transformer temp.  \\\n",
       "DateTime                                                        \n",
       "2014-05-01 00:00:00                     24                 34   \n",
       "2014-05-01 00:09:00                     24                 34   \n",
       "2014-05-01 00:20:00                     24                 34   \n",
       "2014-05-01 00:30:00                     24                 34   \n",
       "2014-05-01 00:39:00                     23                 34   \n",
       "...                                    ...                ...   \n",
       "2015-04-08 23:20:00                     27                 35   \n",
       "2015-04-08 23:30:00                     27                 35   \n",
       "2015-04-08 23:39:00                     27                 34   \n",
       "2015-04-08 23:50:00                     27                 34   \n",
       "2015-04-09 00:00:00                     27                 34   \n",
       "\n",
       "                     RTU: ava. Setpoint 1  Inverter averages  Inverter std dev  \n",
       "DateTime                                                                        \n",
       "2014-05-01 00:00:00                  2501          25.272728          1.103713  \n",
       "2014-05-01 00:09:00                  2501          25.272728          1.103713  \n",
       "2014-05-01 00:20:00                  2501          25.272728          1.103713  \n",
       "2014-05-01 00:30:00                  2501          25.272728          1.103713  \n",
       "2014-05-01 00:39:00                  2501          25.272728          1.103713  \n",
       "...                                   ...                ...               ...  \n",
       "2015-04-08 23:20:00                  3050          24.454546          3.474583  \n",
       "2015-04-08 23:30:00                  3050          24.454546          3.445683  \n",
       "2015-04-08 23:39:00                  3050          24.363636          3.413876  \n",
       "2015-04-08 23:50:00                  3050          24.000000          3.376389  \n",
       "2015-04-09 00:00:00                  3050          23.818182          3.250175  \n",
       "\n",
       "[49027 rows x 65 columns]"
      ]
     },
     "execution_count": 39,
     "metadata": {},
     "output_type": "execute_result"
    }
   ],
   "source": [
    "print(os.getcwd())\n",
    "#\n",
    "import os\n",
    "\n",
    "TO_DATA_FOLDER = '../data/raw/'\n",
    "#os.chdir(TO_DATA_FOLDER)\n",
    "print(os.getcwd())\n",
    "print(os.listdir())\n",
    "\n",
    "\n",
    "scada_df = pd.read_csv('scada.csv')\n",
    "scada_df['DateTime'] = pd.to_datetime(scada_df['DateTime'], format = \"%m/%d/%Y %H:%M\")\n",
    "scada_df.set_index('DateTime', inplace=True)\n",
    "\n",
    "scada_df"
   ]
  },
  {
   "cell_type": "code",
   "execution_count": 41,
   "metadata": {
    "execution": {
     "iopub.execute_input": "2021-11-29T16:20:47.078187Z",
     "iopub.status.busy": "2021-11-29T16:20:47.077736Z",
     "iopub.status.idle": "2021-11-29T16:20:47.328069Z",
     "shell.execute_reply": "2021-11-29T16:20:47.327239Z",
     "shell.execute_reply.started": "2021-11-29T16:20:47.078153Z"
    },
    "trusted": true
   },
   "outputs": [
    {
     "data": {
      "text/html": [
       "<div>\n",
       "<style scoped>\n",
       "    .dataframe tbody tr th:only-of-type {\n",
       "        vertical-align: middle;\n",
       "    }\n",
       "\n",
       "    .dataframe tbody tr th {\n",
       "        vertical-align: top;\n",
       "    }\n",
       "\n",
       "    .dataframe thead th {\n",
       "        text-align: right;\n",
       "    }\n",
       "</style>\n",
       "<table border=\"1\" class=\"dataframe\">\n",
       "  <thead>\n",
       "    <tr style=\"text-align: right;\">\n",
       "      <th></th>\n",
       "      <th>Main Status</th>\n",
       "      <th>Sub Status</th>\n",
       "      <th>Full Status</th>\n",
       "      <th>Status Text</th>\n",
       "      <th>T</th>\n",
       "      <th>Service</th>\n",
       "      <th>FaultMsg</th>\n",
       "      <th>Value0</th>\n",
       "    </tr>\n",
       "    <tr>\n",
       "      <th>DateTime</th>\n",
       "      <th></th>\n",
       "      <th></th>\n",
       "      <th></th>\n",
       "      <th></th>\n",
       "      <th></th>\n",
       "      <th></th>\n",
       "      <th></th>\n",
       "      <th></th>\n",
       "    </tr>\n",
       "  </thead>\n",
       "  <tbody>\n",
       "    <tr>\n",
       "      <th>2014-04-24 12:37:38</th>\n",
       "      <td>0</td>\n",
       "      <td>0</td>\n",
       "      <td>0 : 0</td>\n",
       "      <td>Turbine in operation</td>\n",
       "      <td>1</td>\n",
       "      <td>False</td>\n",
       "      <td>False</td>\n",
       "      <td>7.4</td>\n",
       "    </tr>\n",
       "    <tr>\n",
       "      <th>2014-04-25 19:27:24</th>\n",
       "      <td>71</td>\n",
       "      <td>104</td>\n",
       "      <td>71 : 104</td>\n",
       "      <td>Insulation monitoring : Insulation fault Phase U2</td>\n",
       "      <td>6</td>\n",
       "      <td>False</td>\n",
       "      <td>True</td>\n",
       "      <td>20.5</td>\n",
       "    </tr>\n",
       "    <tr>\n",
       "      <th>2014-04-26 09:30:13</th>\n",
       "      <td>8</td>\n",
       "      <td>0</td>\n",
       "      <td>8 : 0</td>\n",
       "      <td>Maintenance</td>\n",
       "      <td>6</td>\n",
       "      <td>True</td>\n",
       "      <td>False</td>\n",
       "      <td>17.1</td>\n",
       "    </tr>\n",
       "    <tr>\n",
       "      <th>2014-04-26 10:05:19</th>\n",
       "      <td>8</td>\n",
       "      <td>0</td>\n",
       "      <td>8 : 0</td>\n",
       "      <td>Maintenance</td>\n",
       "      <td>6</td>\n",
       "      <td>False</td>\n",
       "      <td>False</td>\n",
       "      <td>8.7</td>\n",
       "    </tr>\n",
       "    <tr>\n",
       "      <th>2014-04-26 10:05:25</th>\n",
       "      <td>8</td>\n",
       "      <td>0</td>\n",
       "      <td>8 : 0</td>\n",
       "      <td>Maintenance</td>\n",
       "      <td>6</td>\n",
       "      <td>True</td>\n",
       "      <td>False</td>\n",
       "      <td>10.6</td>\n",
       "    </tr>\n",
       "    <tr>\n",
       "      <th>...</th>\n",
       "      <td>...</td>\n",
       "      <td>...</td>\n",
       "      <td>...</td>\n",
       "      <td>...</td>\n",
       "      <td>...</td>\n",
       "      <td>...</td>\n",
       "      <td>...</td>\n",
       "      <td>...</td>\n",
       "    </tr>\n",
       "    <tr>\n",
       "      <th>2015-04-27 07:26:51</th>\n",
       "      <td>0</td>\n",
       "      <td>0</td>\n",
       "      <td>0 : 0</td>\n",
       "      <td>Turbine in operation</td>\n",
       "      <td>1</td>\n",
       "      <td>False</td>\n",
       "      <td>False</td>\n",
       "      <td>7.0</td>\n",
       "    </tr>\n",
       "    <tr>\n",
       "      <th>2015-04-28 22:14:25</th>\n",
       "      <td>26</td>\n",
       "      <td>373</td>\n",
       "      <td>26 : 373</td>\n",
       "      <td>Malfunction fan-inverter : Other control board...</td>\n",
       "      <td>6</td>\n",
       "      <td>False</td>\n",
       "      <td>False</td>\n",
       "      <td>8.1</td>\n",
       "    </tr>\n",
       "    <tr>\n",
       "      <th>2015-04-28 22:14:53</th>\n",
       "      <td>0</td>\n",
       "      <td>2</td>\n",
       "      <td>0 : 2</td>\n",
       "      <td>Turbine operational</td>\n",
       "      <td>1</td>\n",
       "      <td>False</td>\n",
       "      <td>False</td>\n",
       "      <td>9.5</td>\n",
       "    </tr>\n",
       "    <tr>\n",
       "      <th>2015-04-28 22:17:15</th>\n",
       "      <td>0</td>\n",
       "      <td>1</td>\n",
       "      <td>0 : 1</td>\n",
       "      <td>Turbine starting</td>\n",
       "      <td>1</td>\n",
       "      <td>False</td>\n",
       "      <td>False</td>\n",
       "      <td>11.1</td>\n",
       "    </tr>\n",
       "    <tr>\n",
       "      <th>2015-04-28 22:18:19</th>\n",
       "      <td>0</td>\n",
       "      <td>0</td>\n",
       "      <td>0 : 0</td>\n",
       "      <td>Turbine in operation</td>\n",
       "      <td>1</td>\n",
       "      <td>False</td>\n",
       "      <td>False</td>\n",
       "      <td>11.5</td>\n",
       "    </tr>\n",
       "  </tbody>\n",
       "</table>\n",
       "<p>1849 rows × 8 columns</p>\n",
       "</div>"
      ],
      "text/plain": [
       "                     Main Status  Sub Status Full Status  \\\n",
       "DateTime                                                   \n",
       "2014-04-24 12:37:38            0           0       0 : 0   \n",
       "2014-04-25 19:27:24           71         104    71 : 104   \n",
       "2014-04-26 09:30:13            8           0       8 : 0   \n",
       "2014-04-26 10:05:19            8           0       8 : 0   \n",
       "2014-04-26 10:05:25            8           0       8 : 0   \n",
       "...                          ...         ...         ...   \n",
       "2015-04-27 07:26:51            0           0       0 : 0   \n",
       "2015-04-28 22:14:25           26         373    26 : 373   \n",
       "2015-04-28 22:14:53            0           2       0 : 2   \n",
       "2015-04-28 22:17:15            0           1       0 : 1   \n",
       "2015-04-28 22:18:19            0           0       0 : 0   \n",
       "\n",
       "                                                           Status Text  T  \\\n",
       "DateTime                                                                    \n",
       "2014-04-24 12:37:38                               Turbine in operation  1   \n",
       "2014-04-25 19:27:24  Insulation monitoring : Insulation fault Phase U2  6   \n",
       "2014-04-26 09:30:13                                        Maintenance  6   \n",
       "2014-04-26 10:05:19                                        Maintenance  6   \n",
       "2014-04-26 10:05:25                                        Maintenance  6   \n",
       "...                                                                ... ..   \n",
       "2015-04-27 07:26:51                               Turbine in operation  1   \n",
       "2015-04-28 22:14:25  Malfunction fan-inverter : Other control board...  6   \n",
       "2015-04-28 22:14:53                                Turbine operational  1   \n",
       "2015-04-28 22:17:15                                   Turbine starting  1   \n",
       "2015-04-28 22:18:19                               Turbine in operation  1   \n",
       "\n",
       "                     Service  FaultMsg  Value0  \n",
       "DateTime                                        \n",
       "2014-04-24 12:37:38    False     False     7.4  \n",
       "2014-04-25 19:27:24    False      True    20.5  \n",
       "2014-04-26 09:30:13     True     False    17.1  \n",
       "2014-04-26 10:05:19    False     False     8.7  \n",
       "2014-04-26 10:05:25     True     False    10.6  \n",
       "...                      ...       ...     ...  \n",
       "2015-04-27 07:26:51    False     False     7.0  \n",
       "2015-04-28 22:14:25    False     False     8.1  \n",
       "2015-04-28 22:14:53    False     False     9.5  \n",
       "2015-04-28 22:17:15    False     False    11.1  \n",
       "2015-04-28 22:18:19    False     False    11.5  \n",
       "\n",
       "[1849 rows x 8 columns]"
      ]
     },
     "execution_count": 41,
     "metadata": {},
     "output_type": "execute_result"
    }
   ],
   "source": [
    "status_df = pd.read_csv('status.csv')\n",
    "status_df['Time'] = pd.to_datetime(status_df['Time'])\n",
    "status_df.rename(columns={'Time': 'DateTime'}, inplace=True)\n",
    "status_df.set_index('DateTime', inplace=True)\n",
    "\n",
    "status_df"
   ]
  },
  {
   "cell_type": "code",
   "execution_count": 43,
   "metadata": {
    "execution": {
     "iopub.execute_input": "2021-11-29T16:20:47.330102Z",
     "iopub.status.busy": "2021-11-29T16:20:47.329449Z",
     "iopub.status.idle": "2021-11-29T16:20:47.364955Z",
     "shell.execute_reply": "2021-11-29T16:20:47.362815Z",
     "shell.execute_reply.started": "2021-11-29T16:20:47.330056Z"
    },
    "trusted": true
   },
   "outputs": [
    {
     "data": {
      "text/html": [
       "<div>\n",
       "<style scoped>\n",
       "    .dataframe tbody tr th:only-of-type {\n",
       "        vertical-align: middle;\n",
       "    }\n",
       "\n",
       "    .dataframe tbody tr th {\n",
       "        vertical-align: top;\n",
       "    }\n",
       "\n",
       "    .dataframe thead th {\n",
       "        text-align: right;\n",
       "    }\n",
       "</style>\n",
       "<table border=\"1\" class=\"dataframe\">\n",
       "  <thead>\n",
       "    <tr style=\"text-align: right;\">\n",
       "      <th></th>\n",
       "      <th>Time</th>\n",
       "      <th>Fault</th>\n",
       "    </tr>\n",
       "    <tr>\n",
       "      <th>DateTime</th>\n",
       "      <th></th>\n",
       "      <th></th>\n",
       "    </tr>\n",
       "  </thead>\n",
       "  <tbody>\n",
       "    <tr>\n",
       "      <th>2014-05-14 14:39:44</th>\n",
       "      <td>1.400096e+09</td>\n",
       "      <td>GF</td>\n",
       "    </tr>\n",
       "    <tr>\n",
       "      <th>2014-05-14 14:50:24</th>\n",
       "      <td>1.400097e+09</td>\n",
       "      <td>GF</td>\n",
       "    </tr>\n",
       "    <tr>\n",
       "      <th>2014-05-14 14:58:56</th>\n",
       "      <td>1.400098e+09</td>\n",
       "      <td>GF</td>\n",
       "    </tr>\n",
       "    <tr>\n",
       "      <th>2014-05-14 15:09:36</th>\n",
       "      <td>1.400098e+09</td>\n",
       "      <td>GF</td>\n",
       "    </tr>\n",
       "    <tr>\n",
       "      <th>2014-05-14 15:20:16</th>\n",
       "      <td>1.400099e+09</td>\n",
       "      <td>GF</td>\n",
       "    </tr>\n",
       "    <tr>\n",
       "      <th>...</th>\n",
       "      <td>...</td>\n",
       "      <td>...</td>\n",
       "    </tr>\n",
       "    <tr>\n",
       "      <th>2015-01-14 23:00:48</th>\n",
       "      <td>1.421298e+09</td>\n",
       "      <td>AF</td>\n",
       "    </tr>\n",
       "    <tr>\n",
       "      <th>2015-01-14 23:09:20</th>\n",
       "      <td>1.421299e+09</td>\n",
       "      <td>AF</td>\n",
       "    </tr>\n",
       "    <tr>\n",
       "      <th>2015-01-15 22:50:08</th>\n",
       "      <td>1.421384e+09</td>\n",
       "      <td>AF</td>\n",
       "    </tr>\n",
       "    <tr>\n",
       "      <th>2015-01-15 23:00:48</th>\n",
       "      <td>1.421384e+09</td>\n",
       "      <td>AF</td>\n",
       "    </tr>\n",
       "    <tr>\n",
       "      <th>2015-01-15 23:09:20</th>\n",
       "      <td>1.421385e+09</td>\n",
       "      <td>AF</td>\n",
       "    </tr>\n",
       "  </tbody>\n",
       "</table>\n",
       "<p>553 rows × 2 columns</p>\n",
       "</div>"
      ],
      "text/plain": [
       "                             Time Fault\n",
       "DateTime                               \n",
       "2014-05-14 14:39:44  1.400096e+09    GF\n",
       "2014-05-14 14:50:24  1.400097e+09    GF\n",
       "2014-05-14 14:58:56  1.400098e+09    GF\n",
       "2014-05-14 15:09:36  1.400098e+09    GF\n",
       "2014-05-14 15:20:16  1.400099e+09    GF\n",
       "...                           ...   ...\n",
       "2015-01-14 23:00:48  1.421298e+09    AF\n",
       "2015-01-14 23:09:20  1.421299e+09    AF\n",
       "2015-01-15 22:50:08  1.421384e+09    AF\n",
       "2015-01-15 23:00:48  1.421384e+09    AF\n",
       "2015-01-15 23:09:20  1.421385e+09    AF\n",
       "\n",
       "[553 rows x 2 columns]"
      ]
     },
     "execution_count": 43,
     "metadata": {},
     "output_type": "execute_result"
    }
   ],
   "source": [
    "fault_df = pd.read_csv('fault.csv')\n",
    "fault_df['DateTime'] = pd.to_datetime(fault_df['DateTime'])\n",
    "fault_df.set_index('DateTime', inplace=True)\n",
    "\n",
    "fault_df"
   ]
  },
  {
   "cell_type": "markdown",
   "metadata": {},
   "source": [
    "In the fault data, there are 5 types of faults, or fault modes:\n",
    "\n",
    "* gf: generator heating fault\n",
    "* mf: mains failure fault\n",
    "* ff: feeding fault\n",
    "* af: air cooling fault\n",
    "* ef: excitation fault\n",
    "\n",
    "I don't know exactly what these are. The source of these fault modes in this [GitHub](https://github.com/lkev/wt-fdd)."
   ]
  },
  {
   "cell_type": "code",
   "execution_count": 52,
   "metadata": {
    "execution": {
     "iopub.execute_input": "2021-11-29T16:20:47.367698Z",
     "iopub.status.busy": "2021-11-29T16:20:47.367232Z",
     "iopub.status.idle": "2021-11-29T16:20:47.378603Z",
     "shell.execute_reply": "2021-11-29T16:20:47.377447Z",
     "shell.execute_reply.started": "2021-11-29T16:20:47.367647Z"
    },
    "trusted": true
   },
   "outputs": [
    {
     "data": {
      "text/html": [
       "<div>\n",
       "<style scoped>\n",
       "    .dataframe tbody tr th:only-of-type {\n",
       "        vertical-align: middle;\n",
       "    }\n",
       "\n",
       "    .dataframe tbody tr th {\n",
       "        vertical-align: top;\n",
       "    }\n",
       "\n",
       "    .dataframe thead th {\n",
       "        text-align: right;\n",
       "    }\n",
       "</style>\n",
       "<table border=\"1\" class=\"dataframe\">\n",
       "  <thead>\n",
       "    <tr style=\"text-align: right;\">\n",
       "      <th></th>\n",
       "      <th>Time</th>\n",
       "      <th>Error</th>\n",
       "      <th>WEC: ava. windspeed</th>\n",
       "      <th>WEC: max. windspeed</th>\n",
       "      <th>WEC: min. windspeed</th>\n",
       "      <th>WEC: ava. Rotation</th>\n",
       "      <th>WEC: max. Rotation</th>\n",
       "      <th>WEC: min. Rotation</th>\n",
       "      <th>WEC: ava. Power</th>\n",
       "      <th>WEC: max. Power</th>\n",
       "      <th>...</th>\n",
       "      <th>Rectifier cabinet temp.</th>\n",
       "      <th>Yaw inverter cabinet temp.</th>\n",
       "      <th>Fan inverter cabinet temp.</th>\n",
       "      <th>Ambient temp.</th>\n",
       "      <th>Tower temp.</th>\n",
       "      <th>Control cabinet temp.</th>\n",
       "      <th>Transformer temp.</th>\n",
       "      <th>RTU: ava. Setpoint 1</th>\n",
       "      <th>Inverter averages</th>\n",
       "      <th>Inverter std dev</th>\n",
       "    </tr>\n",
       "  </thead>\n",
       "  <tbody>\n",
       "    <tr>\n",
       "      <th>count</th>\n",
       "      <td>4.902700e+04</td>\n",
       "      <td>49027.000000</td>\n",
       "      <td>49027.000000</td>\n",
       "      <td>49027.000000</td>\n",
       "      <td>49027.000000</td>\n",
       "      <td>49027.00000</td>\n",
       "      <td>49027.000000</td>\n",
       "      <td>49027.000000</td>\n",
       "      <td>49027.000000</td>\n",
       "      <td>49027.000000</td>\n",
       "      <td>...</td>\n",
       "      <td>49027.000000</td>\n",
       "      <td>49027.000000</td>\n",
       "      <td>49027.000000</td>\n",
       "      <td>49027.000000</td>\n",
       "      <td>49027.000000</td>\n",
       "      <td>49027.000000</td>\n",
       "      <td>49027.000000</td>\n",
       "      <td>49027.000000</td>\n",
       "      <td>49027.000000</td>\n",
       "      <td>49027.000000</td>\n",
       "    </tr>\n",
       "    <tr>\n",
       "      <th>mean</th>\n",
       "      <td>1.413762e+09</td>\n",
       "      <td>0.938748</td>\n",
       "      <td>6.874626</td>\n",
       "      <td>9.340286</td>\n",
       "      <td>12.244133</td>\n",
       "      <td>8.67852</td>\n",
       "      <td>9.547354</td>\n",
       "      <td>8.515034</td>\n",
       "      <td>942.261244</td>\n",
       "      <td>1214.015400</td>\n",
       "      <td>...</td>\n",
       "      <td>30.335958</td>\n",
       "      <td>24.320211</td>\n",
       "      <td>28.802456</td>\n",
       "      <td>13.380219</td>\n",
       "      <td>23.116303</td>\n",
       "      <td>31.766537</td>\n",
       "      <td>43.992596</td>\n",
       "      <td>2988.628184</td>\n",
       "      <td>27.828410</td>\n",
       "      <td>1.855781</td>\n",
       "    </tr>\n",
       "    <tr>\n",
       "      <th>std</th>\n",
       "      <td>8.559693e+06</td>\n",
       "      <td>14.442141</td>\n",
       "      <td>3.694776</td>\n",
       "      <td>5.157448</td>\n",
       "      <td>223.186866</td>\n",
       "      <td>4.14345</td>\n",
       "      <td>4.482192</td>\n",
       "      <td>22.394531</td>\n",
       "      <td>1008.930159</td>\n",
       "      <td>1168.858993</td>\n",
       "      <td>...</td>\n",
       "      <td>5.623608</td>\n",
       "      <td>4.918045</td>\n",
       "      <td>5.185007</td>\n",
       "      <td>5.246230</td>\n",
       "      <td>6.360604</td>\n",
       "      <td>6.381892</td>\n",
       "      <td>10.404843</td>\n",
       "      <td>172.074485</td>\n",
       "      <td>5.595795</td>\n",
       "      <td>1.269928</td>\n",
       "    </tr>\n",
       "    <tr>\n",
       "      <th>min</th>\n",
       "      <td>1.398920e+09</td>\n",
       "      <td>0.000000</td>\n",
       "      <td>0.000000</td>\n",
       "      <td>0.000000</td>\n",
       "      <td>0.000000</td>\n",
       "      <td>0.00000</td>\n",
       "      <td>0.000000</td>\n",
       "      <td>0.000000</td>\n",
       "      <td>0.000000</td>\n",
       "      <td>0.000000</td>\n",
       "      <td>...</td>\n",
       "      <td>0.000000</td>\n",
       "      <td>0.000000</td>\n",
       "      <td>0.000000</td>\n",
       "      <td>0.000000</td>\n",
       "      <td>0.000000</td>\n",
       "      <td>0.000000</td>\n",
       "      <td>-19.000000</td>\n",
       "      <td>0.000000</td>\n",
       "      <td>-14.000000</td>\n",
       "      <td>0.000000</td>\n",
       "    </tr>\n",
       "    <tr>\n",
       "      <th>25%</th>\n",
       "      <td>1.406352e+09</td>\n",
       "      <td>0.000000</td>\n",
       "      <td>4.200000</td>\n",
       "      <td>5.800000</td>\n",
       "      <td>2.600000</td>\n",
       "      <td>6.33000</td>\n",
       "      <td>6.740000</td>\n",
       "      <td>5.880000</td>\n",
       "      <td>87.000000</td>\n",
       "      <td>138.000000</td>\n",
       "      <td>...</td>\n",
       "      <td>26.000000</td>\n",
       "      <td>20.000000</td>\n",
       "      <td>25.000000</td>\n",
       "      <td>9.000000</td>\n",
       "      <td>19.000000</td>\n",
       "      <td>27.000000</td>\n",
       "      <td>37.000000</td>\n",
       "      <td>3050.000000</td>\n",
       "      <td>24.363636</td>\n",
       "      <td>1.206045</td>\n",
       "    </tr>\n",
       "    <tr>\n",
       "      <th>50%</th>\n",
       "      <td>1.413706e+09</td>\n",
       "      <td>0.000000</td>\n",
       "      <td>6.500000</td>\n",
       "      <td>8.600000</td>\n",
       "      <td>4.400000</td>\n",
       "      <td>8.97000</td>\n",
       "      <td>10.060000</td>\n",
       "      <td>7.850000</td>\n",
       "      <td>536.000000</td>\n",
       "      <td>802.000000</td>\n",
       "      <td>...</td>\n",
       "      <td>30.000000</td>\n",
       "      <td>25.000000</td>\n",
       "      <td>29.000000</td>\n",
       "      <td>13.000000</td>\n",
       "      <td>24.000000</td>\n",
       "      <td>33.000000</td>\n",
       "      <td>43.000000</td>\n",
       "      <td>3050.000000</td>\n",
       "      <td>28.454546</td>\n",
       "      <td>1.566699</td>\n",
       "    </tr>\n",
       "    <tr>\n",
       "      <th>75%</th>\n",
       "      <td>1.421179e+09</td>\n",
       "      <td>0.000000</td>\n",
       "      <td>8.900000</td>\n",
       "      <td>11.700000</td>\n",
       "      <td>6.300000</td>\n",
       "      <td>11.92000</td>\n",
       "      <td>13.550000</td>\n",
       "      <td>10.390000</td>\n",
       "      <td>1551.000000</td>\n",
       "      <td>2326.000000</td>\n",
       "      <td>...</td>\n",
       "      <td>34.000000</td>\n",
       "      <td>28.000000</td>\n",
       "      <td>33.000000</td>\n",
       "      <td>17.000000</td>\n",
       "      <td>28.000000</td>\n",
       "      <td>36.000000</td>\n",
       "      <td>48.000000</td>\n",
       "      <td>3050.000000</td>\n",
       "      <td>31.818182</td>\n",
       "      <td>2.370270</td>\n",
       "    </tr>\n",
       "    <tr>\n",
       "      <th>max</th>\n",
       "      <td>1.428556e+09</td>\n",
       "      <td>246.000000</td>\n",
       "      <td>32.099998</td>\n",
       "      <td>51.099998</td>\n",
       "      <td>6553.500000</td>\n",
       "      <td>14.73000</td>\n",
       "      <td>18.910000</td>\n",
       "      <td>655.349976</td>\n",
       "      <td>3071.000000</td>\n",
       "      <td>3216.000000</td>\n",
       "      <td>...</td>\n",
       "      <td>49.000000</td>\n",
       "      <td>38.000000</td>\n",
       "      <td>44.000000</td>\n",
       "      <td>35.000000</td>\n",
       "      <td>36.000000</td>\n",
       "      <td>45.000000</td>\n",
       "      <td>71.000000</td>\n",
       "      <td>3050.000000</td>\n",
       "      <td>42.545456</td>\n",
       "      <td>23.512859</td>\n",
       "    </tr>\n",
       "  </tbody>\n",
       "</table>\n",
       "<p>8 rows × 65 columns</p>\n",
       "</div>"
      ],
      "text/plain": [
       "               Time         Error  WEC: ava. windspeed  WEC: max. windspeed  \\\n",
       "count  4.902700e+04  49027.000000         49027.000000         49027.000000   \n",
       "mean   1.413762e+09      0.938748             6.874626             9.340286   \n",
       "std    8.559693e+06     14.442141             3.694776             5.157448   \n",
       "min    1.398920e+09      0.000000             0.000000             0.000000   \n",
       "25%    1.406352e+09      0.000000             4.200000             5.800000   \n",
       "50%    1.413706e+09      0.000000             6.500000             8.600000   \n",
       "75%    1.421179e+09      0.000000             8.900000            11.700000   \n",
       "max    1.428556e+09    246.000000            32.099998            51.099998   \n",
       "\n",
       "       WEC: min. windspeed  WEC: ava. Rotation  WEC: max. Rotation  \\\n",
       "count         49027.000000         49027.00000        49027.000000   \n",
       "mean             12.244133             8.67852            9.547354   \n",
       "std             223.186866             4.14345            4.482192   \n",
       "min               0.000000             0.00000            0.000000   \n",
       "25%               2.600000             6.33000            6.740000   \n",
       "50%               4.400000             8.97000           10.060000   \n",
       "75%               6.300000            11.92000           13.550000   \n",
       "max            6553.500000            14.73000           18.910000   \n",
       "\n",
       "       WEC: min. Rotation  WEC: ava. Power  WEC: max. Power  ...  \\\n",
       "count        49027.000000     49027.000000     49027.000000  ...   \n",
       "mean             8.515034       942.261244      1214.015400  ...   \n",
       "std             22.394531      1008.930159      1168.858993  ...   \n",
       "min              0.000000         0.000000         0.000000  ...   \n",
       "25%              5.880000        87.000000       138.000000  ...   \n",
       "50%              7.850000       536.000000       802.000000  ...   \n",
       "75%             10.390000      1551.000000      2326.000000  ...   \n",
       "max            655.349976      3071.000000      3216.000000  ...   \n",
       "\n",
       "       Rectifier cabinet temp.  Yaw inverter cabinet temp.  \\\n",
       "count             49027.000000                49027.000000   \n",
       "mean                 30.335958                   24.320211   \n",
       "std                   5.623608                    4.918045   \n",
       "min                   0.000000                    0.000000   \n",
       "25%                  26.000000                   20.000000   \n",
       "50%                  30.000000                   25.000000   \n",
       "75%                  34.000000                   28.000000   \n",
       "max                  49.000000                   38.000000   \n",
       "\n",
       "       Fan inverter cabinet temp.  Ambient temp.   Tower temp.  \\\n",
       "count                49027.000000   49027.000000  49027.000000   \n",
       "mean                    28.802456      13.380219     23.116303   \n",
       "std                      5.185007       5.246230      6.360604   \n",
       "min                      0.000000       0.000000      0.000000   \n",
       "25%                     25.000000       9.000000     19.000000   \n",
       "50%                     29.000000      13.000000     24.000000   \n",
       "75%                     33.000000      17.000000     28.000000   \n",
       "max                     44.000000      35.000000     36.000000   \n",
       "\n",
       "       Control cabinet temp.  Transformer temp.  RTU: ava. Setpoint 1  \\\n",
       "count           49027.000000       49027.000000          49027.000000   \n",
       "mean               31.766537          43.992596           2988.628184   \n",
       "std                 6.381892          10.404843            172.074485   \n",
       "min                 0.000000         -19.000000              0.000000   \n",
       "25%                27.000000          37.000000           3050.000000   \n",
       "50%                33.000000          43.000000           3050.000000   \n",
       "75%                36.000000          48.000000           3050.000000   \n",
       "max                45.000000          71.000000           3050.000000   \n",
       "\n",
       "       Inverter averages  Inverter std dev  \n",
       "count       49027.000000      49027.000000  \n",
       "mean           27.828410          1.855781  \n",
       "std             5.595795          1.269928  \n",
       "min           -14.000000          0.000000  \n",
       "25%            24.363636          1.206045  \n",
       "50%            28.454546          1.566699  \n",
       "75%            31.818182          2.370270  \n",
       "max            42.545456         23.512859  \n",
       "\n",
       "[8 rows x 65 columns]"
      ]
     },
     "execution_count": 52,
     "metadata": {},
     "output_type": "execute_result"
    }
   ],
   "source": [
    "\n",
    "scada_df.describe()"
   ]
  },
  {
   "cell_type": "markdown",
   "metadata": {},
   "source": [
    "# 2. Time series analysis"
   ]
  },
  {
   "cell_type": "markdown",
   "metadata": {},
   "source": [
    "The 3 data have different time spans. The status data has the longest record timespan from January 2014 to December 2015. The shortest is SCADA data from April 2014 to April 2015. Therefore, when seeing the SCADA records, we can refer to status and fault data to see what happens on the turbine at certain timestamps."
   ]
  },
  {
   "cell_type": "code",
   "execution_count": 45,
   "metadata": {
    "execution": {
     "iopub.execute_input": "2021-11-29T16:20:47.381415Z",
     "iopub.status.busy": "2021-11-29T16:20:47.380777Z",
     "iopub.status.idle": "2021-11-29T16:20:47.840851Z",
     "shell.execute_reply": "2021-11-29T16:20:47.839993Z",
     "shell.execute_reply.started": "2021-11-29T16:20:47.381373Z"
    },
    "trusted": true
   },
   "outputs": [
    {
     "data": {
      "text/plain": [
       "(0.0, 4.0)"
      ]
     },
     "execution_count": 45,
     "metadata": {},
     "output_type": "execute_result"
    },
    {
     "data": {
      "image/png": "[encoded data removed]",
      "text/plain": [
       "<Figure size 1000x400 with 1 Axes>"
      ]
     },
     "metadata": {},
     "output_type": "display_data"
    }
   ],
   "source": [
    "# Plot time span of all data\n",
    "t_scada = scada_df.index\n",
    "t_fault = fault_df.index\n",
    "t_status = status_df.index\n",
    "\n",
    "plt.figure(figsize=(10,4))\n",
    "plt.plot(t_scada, np.full(len(scada_df), 1), label='scada data')\n",
    "plt.plot(t_fault, np.full(len(fault_df), 2), label='fault data')\n",
    "plt.plot(t_status, np.full(len(status_df), 3), label='status data')\n",
    "plt.legend(loc='lower right')\n",
    "plt.ylim(0,4)"
   ]
  },
  {
   "cell_type": "code",
   "execution_count": 59,
   "metadata": {
    "execution": {
     "iopub.execute_input": "2021-11-29T16:20:47.842747Z",
     "iopub.status.busy": "2021-11-29T16:20:47.842108Z",
     "iopub.status.idle": "2021-11-29T16:20:49.14163Z",
     "shell.execute_reply": "2021-11-29T16:20:49.141015Z",
     "shell.execute_reply.started": "2021-11-29T16:20:47.84271Z"
    },
    "trusted": true
   },
   "outputs": [
    {
     "data": {
      "text/plain": [
       "<Axes: xlabel='DateTime'>"
      ]
     },
     "execution_count": 59,
     "metadata": {},
     "output_type": "execute_result"
    },
    {
     "data": {
      "image/png": "[encoded data removed]",
      "text/plain": [
       "<Figure size 2000x400 with 1 Axes>"
      ]
     },
     "metadata": {},
     "output_type": "display_data"
    }
   ],
   "source": [
    "# Plot of max power from SCADA data\n",
    "scada_df.plot(y='WEC: ava. Power', figsize=(20,4))"
   ]
  },
  {
   "cell_type": "code",
   "execution_count": 68,
   "metadata": {
    "execution": {
     "iopub.execute_input": "2021-11-29T16:20:49.144553Z",
     "iopub.status.busy": "2021-11-29T16:20:49.144144Z",
     "iopub.status.idle": "2021-11-29T16:20:49.736629Z",
     "shell.execute_reply": "2021-11-29T16:20:49.735839Z",
     "shell.execute_reply.started": "2021-11-29T16:20:49.144522Z"
    },
    "trusted": true
   },
   "outputs": [
    {
     "data": {
      "image/png": "[encoded data removed]",
      "text/plain": [
       "<Figure size 2000x400 with 1 Axes>"
      ]
     },
     "metadata": {},
     "output_type": "display_data"
    }
   ],
   "source": [
    "# Plot of avg power output generated by the wind turbine on a weekly basis\n",
    "\n",
    "weekly_scada_df = scada_df.resample(\"M\").mean()\n",
    "plt.figure(figsize=(20, 4))\n",
    "plt.plot(weekly_scada_df.index, weekly_scada_df['WEC: ava. Power'])\n",
    "\n",
    "# Customize x-axis labels\n",
    "plt.xticks(weekly_scada_df.index, rotation=45)\n",
    "\n",
    "# Set x-axis label\n",
    "plt.xlabel('Time')\n",
    "# Set y-axis label\n",
    "plt.ylabel('WEC: ava. Power')\n",
    "plt.title('Weekly Average Power')\n",
    "\n",
    "plt.show()"
   ]
  },
  {
   "cell_type": "markdown",
   "metadata": {},
   "source": [
    "From the above graph, we notice that from October to March, we can observe a rising trend of power generated by wind turbine and stay on a high pleatue\n",
    "There were times when power dropped, for example in October 2014, December 2014, and the most significant in January 2015."
   ]
  },
  {
   "cell_type": "code",
   "execution_count": null,
   "metadata": {
    "execution": {
     "iopub.execute_input": "2021-11-29T16:20:49.737945Z",
     "iopub.status.busy": "2021-11-29T16:20:49.737717Z",
     "iopub.status.idle": "2021-11-29T16:20:50.392553Z",
     "shell.execute_reply": "2021-11-29T16:20:50.391722Z",
     "shell.execute_reply.started": "2021-11-29T16:20:49.737917Z"
    },
    "trusted": true
   },
   "outputs": [],
   "source": [
    "# Plot of power production on monthly resampled data\n",
    "y = 'WEC: Production kWh'\n",
    "scada_df.resample('D', on='DateTime').mean().plot(y=y, figsize=(15,4))"
   ]
  },
  {
   "cell_type": "markdown",
   "metadata": {},
   "source": [
    "The number of wind turbine faults significantly increases on October 2014."
   ]
  },
  {
   "cell_type": "code",
   "execution_count": null,
   "metadata": {
    "execution": {
     "iopub.execute_input": "2021-11-29T16:20:50.394239Z",
     "iopub.status.busy": "2021-11-29T16:20:50.393633Z",
     "iopub.status.idle": "2021-11-29T16:20:50.772707Z",
     "shell.execute_reply": "2021-11-29T16:20:50.771851Z",
     "shell.execute_reply.started": "2021-11-29T16:20:50.394204Z"
    },
    "trusted": true
   },
   "outputs": [],
   "source": [
    "# Plot of number of faults on monthly resampled data\n",
    "fault_df.resample('M', on='DateTime').Fault.count().plot.bar()"
   ]
  },
  {
   "cell_type": "code",
   "execution_count": null,
   "metadata": {
    "execution": {
     "iopub.execute_input": "2021-11-29T16:20:50.774695Z",
     "iopub.status.busy": "2021-11-29T16:20:50.773926Z",
     "iopub.status.idle": "2021-11-29T16:20:50.796395Z",
     "shell.execute_reply": "2021-11-29T16:20:50.795495Z",
     "shell.execute_reply.started": "2021-11-29T16:20:50.774656Z"
    },
    "trusted": true
   },
   "outputs": [],
   "source": [
    "fault_df.resample('M', on='DateTime').Fault.value_counts()"
   ]
  },
  {
   "cell_type": "markdown",
   "metadata": {},
   "source": [
    "Let's plot the faults grouped by its fault modes. There are lots of EF events in October and November 2014, and lots of FF events from October 2014 - January 2015."
   ]
  },
  {
   "cell_type": "code",
   "execution_count": null,
   "metadata": {
    "execution": {
     "iopub.execute_input": "2021-11-29T16:35:28.160935Z",
     "iopub.status.busy": "2021-11-29T16:35:28.1603Z",
     "iopub.status.idle": "2021-11-29T16:35:28.166966Z",
     "shell.execute_reply": "2021-11-29T16:35:28.166084Z",
     "shell.execute_reply.started": "2021-11-29T16:35:28.160886Z"
    },
    "trusted": true
   },
   "outputs": [],
   "source": [
    "def line_format(label):\n",
    "    \"\"\"\n",
    "    Convert time label to the format of pandas line plot\n",
    "    \"\"\"\n",
    "    month = label.month_name()[:3]\n",
    "    if month == 'Jan':\n",
    "        month += f'\\n{label.year}'\n",
    "    return month"
   ]
  },
  {
   "cell_type": "code",
   "execution_count": null,
   "metadata": {
    "execution": {
     "iopub.execute_input": "2021-11-29T16:36:29.759048Z",
     "iopub.status.busy": "2021-11-29T16:36:29.758419Z",
     "iopub.status.idle": "2021-11-29T16:36:30.333155Z",
     "shell.execute_reply": "2021-11-29T16:36:30.332302Z",
     "shell.execute_reply.started": "2021-11-29T16:36:29.759009Z"
    },
    "trusted": true
   },
   "outputs": [],
   "source": [
    "c = ['red', 'orange', 'green', 'blue', 'violet']\n",
    "fault_df.resample('M', on='DateTime').Fault.value_counts().unstack().plot.bar(stacked=True, width=0.8, figsize=(10,5), color=c, rot=45,\n",
    "                                                                              title='Wind Turbine Faults', ylabel='Fault Counts')"
   ]
  },
  {
   "cell_type": "markdown",
   "metadata": {},
   "source": [
    "# 3. Combine SCADA and faults data"
   ]
  },
  {
   "cell_type": "markdown",
   "metadata": {},
   "source": [
    "We combine SCADA and fault data to pair each measurements with associated faults."
   ]
  },
  {
   "cell_type": "code",
   "execution_count": null,
   "metadata": {
    "execution": {
     "iopub.execute_input": "2021-11-29T16:20:51.368064Z",
     "iopub.status.busy": "2021-11-29T16:20:51.367754Z",
     "iopub.status.idle": "2021-11-29T16:20:53.584621Z",
     "shell.execute_reply": "2021-11-29T16:20:53.583831Z",
     "shell.execute_reply.started": "2021-11-29T16:20:51.368025Z"
    },
    "trusted": true
   },
   "outputs": [],
   "source": [
    "# Combine scada and fault data\n",
    "df_combine = scada_df.merge(fault_df, on='Time', how='outer')\n",
    "msno.matrix(df_combine)"
   ]
  },
  {
   "cell_type": "markdown",
   "metadata": {},
   "source": [
    "There are lots of NaNs, or unmatched SCADA timestamps with fault timestamps, simply because there are no faults happen at certain time. For these NaNs, we will replace with \"NF\".\n",
    "\n",
    "**NF is No Fault (normal condition)**"
   ]
  },
  {
   "cell_type": "code",
   "execution_count": null,
   "metadata": {
    "execution": {
     "iopub.execute_input": "2021-11-29T16:20:53.586542Z",
     "iopub.status.busy": "2021-11-29T16:20:53.586081Z",
     "iopub.status.idle": "2021-11-29T16:20:53.637371Z",
     "shell.execute_reply": "2021-11-29T16:20:53.636498Z",
     "shell.execute_reply.started": "2021-11-29T16:20:53.586497Z"
    },
    "trusted": true
   },
   "outputs": [],
   "source": [
    "# Replace records that has no fault label (NaN) as 'NF' (no fault)\n",
    "df_combine['Fault'] = df_combine['Fault'].replace(np.nan, 'NF')\n",
    "\n",
    "df_combine"
   ]
  },
  {
   "cell_type": "markdown",
   "metadata": {},
   "source": [
    "# 4. Exploratory Data Analysis"
   ]
  },
  {
   "cell_type": "markdown",
   "metadata": {},
   "source": [
    "Print the averages of SCADA values grouped by fault modes."
   ]
  },
  {
   "cell_type": "code",
   "execution_count": null,
   "metadata": {
    "execution": {
     "iopub.execute_input": "2021-11-29T16:20:53.63925Z",
     "iopub.status.busy": "2021-11-29T16:20:53.63892Z",
     "iopub.status.idle": "2021-11-29T16:20:53.708738Z",
     "shell.execute_reply": "2021-11-29T16:20:53.708167Z",
     "shell.execute_reply.started": "2021-11-29T16:20:53.63921Z"
    },
    "trusted": true
   },
   "outputs": [],
   "source": [
    "# Suppress scientific notations\n",
    "pd.set_option('display.float_format', lambda x: '%.3f' % x)\n",
    "\n",
    "# Groupby fault and take average\n",
    "df_summary = df_combine.groupby('Fault').mean().T\n",
    "df_summary.tail(20)"
   ]
  },
  {
   "cell_type": "markdown",
   "metadata": {},
   "source": [
    "Seeing the averages above, we could identify the anomalous behavior of Fault Modes:\n",
    "\n",
    "* WF has lower ava, min, max active reactive power than No Fault (NF)\n",
    "* EF has higher ava, min, max active reactive power than No Fault (NF)\n",
    "* GF has ZERO ava, min, max active reactive power\n",
    "* FF and MF have higher nacelle cable twisting than NF\n",
    "* AF and GF have negative nacelle cable twisting\n",
    "* AF and MF have lower production\n",
    "* All faults have higher blade angle, the highest is FF\n",
    "* GF in general has the lowest temperature in ALL components (cabinet temp, T spinner, T front bearing, ..., T transformer)\n",
    "* While other faults (FF, AF, MF, EF) have higher temperature\n",
    "* EF temperature is highest in cabinet, pitch, rotor, stator, ambient, control, tower, and transformer\n",
    "* AF temperature is highest in spinner, front bearing, rare bearing, nacelle, main carrier, rectifier, yaw, and fan inverter"
   ]
  },
  {
   "cell_type": "markdown",
   "metadata": {},
   "source": [
    "The boxplots of temperatures (at spinner, bearing, nacelle, and fan inverter) shows that during GF, the temperatures are anomalously lower than normal condition. However, temperatures are higher than normal during AF and EF."
   ]
  },
  {
   "cell_type": "code",
   "execution_count": null,
   "metadata": {
    "execution": {
     "iopub.execute_input": "2021-11-29T16:32:07.597347Z",
     "iopub.status.busy": "2021-11-29T16:32:07.596988Z",
     "iopub.status.idle": "2021-11-29T16:32:08.791114Z",
     "shell.execute_reply": "2021-11-29T16:32:08.790055Z",
     "shell.execute_reply.started": "2021-11-29T16:32:07.597307Z"
    },
    "trusted": true
   },
   "outputs": [],
   "source": [
    "# Boxplots of temperature\n",
    "f, axes = plt.subplots(nrows=2, ncols=2,figsize=(10,8))\n",
    "\n",
    "sns.boxplot(x='Fault', y='Spinner temp.', data=df_combine, ax=axes[0][0])\n",
    "axes[0][0].set_title('Spinner Temperature')\n",
    "sns.boxplot(x='Fault', y='Rear bearing temp.', data=df_combine, ax=axes[0][1])\n",
    "axes[0][1].set_title('Rear Bearing Temperature')\n",
    "sns.boxplot(x='Fault', y='Nacelle temp.', data=df_combine, ax=axes[1][0])\n",
    "axes[1][0].set_title('Nacelle Temperature')\n",
    "sns.boxplot(x='Fault', y='Fan inverter cabinet temp.', data=df_combine, ax=axes[1][1])\n",
    "axes[1][1].set_title('Fan Inverter Temperature')\n",
    "\n",
    "plt.tight_layout()"
   ]
  },
  {
   "cell_type": "markdown",
   "metadata": {},
   "source": [
    "Boxplot of reactive power (power from the generator?) shows the power during EF is anomalously high, while the power during MF is lower than normal condition. "
   ]
  },
  {
   "cell_type": "code",
   "execution_count": null,
   "metadata": {
    "execution": {
     "iopub.execute_input": "2021-11-29T16:20:55.056633Z",
     "iopub.status.busy": "2021-11-29T16:20:55.056425Z",
     "iopub.status.idle": "2021-11-29T16:20:56.106791Z",
     "shell.execute_reply": "2021-11-29T16:20:56.105812Z",
     "shell.execute_reply.started": "2021-11-29T16:20:55.056607Z"
    },
    "trusted": true
   },
   "outputs": [],
   "source": [
    "sns.catplot(data=df_combine, x='Fault', y='WEC: ava. reactive Power', kind='box')"
   ]
  },
  {
   "cell_type": "markdown",
   "metadata": {},
   "source": [
    "The boxplot of nacelle position and cable twisting shows that during AF, nacelle position is negative (up to -500) while during MF, FF, and EF, nacelle position is positive (up to +500)."
   ]
  },
  {
   "cell_type": "code",
   "execution_count": null,
   "metadata": {
    "execution": {
     "iopub.execute_input": "2021-11-29T16:20:56.108556Z",
     "iopub.status.busy": "2021-11-29T16:20:56.108333Z",
     "iopub.status.idle": "2021-11-29T16:20:57.31166Z",
     "shell.execute_reply": "2021-11-29T16:20:57.310838Z",
     "shell.execute_reply.started": "2021-11-29T16:20:56.108527Z"
    },
    "trusted": true
   },
   "outputs": [],
   "source": [
    "sns.catplot(data=df_combine, x='Fault', y='WEC: ava. Nacel position including cable twisting', kind='box')"
   ]
  },
  {
   "cell_type": "markdown",
   "metadata": {},
   "source": [
    "The boxplot of operating hours shows that during MF and AF, the operating hours are shorter than normal condition. However, during FF, the operating hours are longer than normally are."
   ]
  },
  {
   "cell_type": "code",
   "execution_count": null,
   "metadata": {
    "execution": {
     "iopub.execute_input": "2021-11-29T16:20:57.313145Z",
     "iopub.status.busy": "2021-11-29T16:20:57.312886Z",
     "iopub.status.idle": "2021-11-29T16:20:58.397452Z",
     "shell.execute_reply": "2021-11-29T16:20:58.39659Z",
     "shell.execute_reply.started": "2021-11-29T16:20:57.313116Z"
    },
    "trusted": true
   },
   "outputs": [],
   "source": [
    "sns.catplot(data=df_combine, x='Fault', y='WEC: Operating Hours', kind='box')"
   ]
  },
  {
   "cell_type": "markdown",
   "metadata": {},
   "source": [
    "# 5. Data preparation for ML"
   ]
  },
  {
   "cell_type": "markdown",
   "metadata": {},
   "source": [
    "There are far more records of NF (normal condition) than faulty records - imbalanced dataset. We will sample the No Fault dataframe and pick only 300 records. "
   ]
  },
  {
   "cell_type": "code",
   "execution_count": null,
   "metadata": {
    "execution": {
     "iopub.execute_input": "2021-11-29T16:20:58.399138Z",
     "iopub.status.busy": "2021-11-29T16:20:58.398879Z",
     "iopub.status.idle": "2021-11-29T16:20:58.411634Z",
     "shell.execute_reply": "2021-11-29T16:20:58.411039Z",
     "shell.execute_reply.started": "2021-11-29T16:20:58.399108Z"
    },
    "trusted": true
   },
   "outputs": [],
   "source": [
    "df_combine.Fault.value_counts()"
   ]
  },
  {
   "cell_type": "code",
   "execution_count": null,
   "metadata": {
    "execution": {
     "iopub.execute_input": "2021-11-29T16:20:58.413281Z",
     "iopub.status.busy": "2021-11-29T16:20:58.412756Z",
     "iopub.status.idle": "2021-11-29T16:20:58.46635Z",
     "shell.execute_reply": "2021-11-29T16:20:58.465224Z",
     "shell.execute_reply.started": "2021-11-29T16:20:58.413191Z"
    },
    "trusted": true
   },
   "outputs": [],
   "source": [
    "# Pick 300 samples of NF (No Fault) mode data\n",
    "df_nf = df_combine[df_combine.Fault=='NF'].sample(300, random_state=42)\n",
    "\n",
    "df_nf"
   ]
  },
  {
   "cell_type": "code",
   "execution_count": null,
   "metadata": {
    "execution": {
     "iopub.execute_input": "2021-11-29T16:20:58.468176Z",
     "iopub.status.busy": "2021-11-29T16:20:58.467902Z",
     "iopub.status.idle": "2021-11-29T16:20:58.503873Z",
     "shell.execute_reply": "2021-11-29T16:20:58.503011Z",
     "shell.execute_reply.started": "2021-11-29T16:20:58.468146Z"
    },
    "trusted": true
   },
   "outputs": [],
   "source": [
    "# With fault mode data\n",
    "df_f = df_combine[df_combine.Fault!='NF']\n",
    "\n",
    "df_f"
   ]
  },
  {
   "cell_type": "code",
   "execution_count": null,
   "metadata": {
    "execution": {
     "iopub.execute_input": "2021-11-29T16:20:58.508583Z",
     "iopub.status.busy": "2021-11-29T16:20:58.508353Z",
     "iopub.status.idle": "2021-11-29T16:20:58.541507Z",
     "shell.execute_reply": "2021-11-29T16:20:58.54051Z",
     "shell.execute_reply.started": "2021-11-29T16:20:58.508556Z"
    },
    "trusted": true
   },
   "outputs": [],
   "source": [
    "# Combine no fault and faulty dataframes\n",
    "df_combine = pd.concat((df_nf, df_f), axis=0).reset_index(drop=True)\n",
    "\n",
    "df_combine"
   ]
  },
  {
   "cell_type": "markdown",
   "metadata": {},
   "source": [
    "Preparing for the training dataset, we **drop irrelevant features**. First we drop datetime, time, and error columns. Next, features that \"de facto\" are output of wind turbine, such as power from wind, operating hours, and kWh production, are dropped. Also, climatic variable such as wind speed are not useful."
   ]
  },
  {
   "cell_type": "code",
   "execution_count": null,
   "metadata": {
    "execution": {
     "iopub.execute_input": "2021-11-29T16:20:58.543075Z",
     "iopub.status.busy": "2021-11-29T16:20:58.542845Z",
     "iopub.status.idle": "2021-11-29T16:20:58.572672Z",
     "shell.execute_reply": "2021-11-29T16:20:58.572033Z",
     "shell.execute_reply.started": "2021-11-29T16:20:58.543048Z"
    },
    "trusted": true
   },
   "outputs": [],
   "source": [
    "# Drop irrelevant features\n",
    "train_df = df_combine.drop(columns=['DateTime_x', 'Time', 'Error', 'WEC: ava. windspeed',\n",
    "                                    'WEC: ava. available P from wind',\n",
    "                                    'WEC: ava. available P technical reasons',\n",
    "                                    'WEC: ava. Available P force majeure reasons',\n",
    "                                    'WEC: ava. Available P force external reasons',\n",
    "                                    'WEC: max. windspeed', 'WEC: min. windspeed',\n",
    "                                    'WEC: Operating Hours', 'WEC: Production kWh',\n",
    "                                    'WEC: Production minutes', 'DateTime_y'])\n",
    "\n",
    "train_df"
   ]
  },
  {
   "cell_type": "code",
   "execution_count": null,
   "metadata": {
    "execution": {
     "iopub.execute_input": "2021-11-29T16:20:58.57379Z",
     "iopub.status.busy": "2021-11-29T16:20:58.573579Z",
     "iopub.status.idle": "2021-11-29T16:20:58.720172Z",
     "shell.execute_reply": "2021-11-29T16:20:58.71932Z",
     "shell.execute_reply.started": "2021-11-29T16:20:58.573765Z"
    },
    "trusted": true
   },
   "outputs": [],
   "source": [
    "# Imbalanced fault modes\n",
    "train_df.Fault.value_counts().plot.pie(title='Fault Modes')"
   ]
  },
  {
   "cell_type": "markdown",
   "metadata": {},
   "source": [
    "# 6. Machine learning - fault modes classification"
   ]
  },
  {
   "cell_type": "markdown",
   "metadata": {},
   "source": [
    "We are going to build a predictive model to classify fault modes of wind turbine based on the information or status of wind turbine components (gear box, tower, nacelle, bearing, etc.) from SCADA system. This is a multiclass classification task.\n",
    "\n",
    "Because our training data is largely imbalanced for each fault modes, we use **SMOTE** (Synthetic Minority Oversampling Technique) to oversample the minority classes. The classifier that we use is **LightGBM** (Gradient Boosting Machine). To avoid overfitting, we did **Stratified K-Fold** cross-validation with 5-folds. **Multiple scoring metrics** are used: accuracy, macro-averaged precision, macro recall, and macro F1 score.  \n",
    "\n",
    "**NOTE.** During cross-validation, the train set will be divided into train set and validation set. Therefore, to ensure that the train set is balanced, the SMOTE should be put inside via **pipeline**. If outside, the score result will be unfair (see this [article](https://towardsdatascience.com/the-right-way-of-using-smote-with-cross-validation-92a8d09d00c7))."
   ]
  },
  {
   "cell_type": "code",
   "execution_count": null,
   "metadata": {
    "execution": {
     "iopub.execute_input": "2021-11-29T16:20:58.721623Z",
     "iopub.status.busy": "2021-11-29T16:20:58.721415Z",
     "iopub.status.idle": "2021-11-29T16:21:04.762283Z",
     "shell.execute_reply": "2021-11-29T16:21:04.761533Z",
     "shell.execute_reply.started": "2021-11-29T16:20:58.721597Z"
    },
    "trusted": true
   },
   "outputs": [],
   "source": [
    "# Feature and target\n",
    "# X = df_combine.iloc[:,3:-2]\n",
    "# y = df_combine.iloc[:,-1]\n",
    "X = train_df.iloc[:,:-1]\n",
    "y = train_df.iloc[:,-1]\n",
    "\n",
    "# Train-test split\n",
    "X_train, X_test, y_train, y_test = train_test_split(X, y, test_size=0.3, random_state=42)\n",
    "\n",
    "# Make pipeline of SMOTE, scaling, and classifier\n",
    "pipe = make_pipeline(SMOTE(), StandardScaler(), LGBMClassifier(random_state=42))\n",
    "\n",
    "# Define multiple scoring metrics\n",
    "scoring = {\n",
    "    'acc': 'accuracy',\n",
    "    'prec_macro': 'precision_macro',\n",
    "    'rec_macro': 'recall_macro',\n",
    "    'f1_macro': 'f1_macro'\n",
    "}\n",
    "\n",
    "# Stratified K-Fold\n",
    "stratkfold = StratifiedKFold(n_splits=5, shuffle=True, random_state=42)\n",
    "\n",
    "# Return a dictionary of all scorings\n",
    "cv_scores = cross_validate(pipe, X_train, y_train, cv=stratkfold, scoring=scoring)"
   ]
  },
  {
   "cell_type": "code",
   "execution_count": null,
   "metadata": {
    "execution": {
     "iopub.execute_input": "2021-11-29T16:21:04.767244Z",
     "iopub.status.busy": "2021-11-29T16:21:04.766639Z",
     "iopub.status.idle": "2021-11-29T16:21:04.775954Z",
     "shell.execute_reply": "2021-11-29T16:21:04.775079Z",
     "shell.execute_reply.started": "2021-11-29T16:21:04.767198Z"
    },
    "trusted": true
   },
   "outputs": [],
   "source": [
    "# Print scoring results from dictionary\n",
    "for metric_name, metric_value in cv_scores.items():\n",
    "    mean = np.mean(metric_value)\n",
    "    print(f'{metric_name}: {np.round(metric_value, 4)}, Mean: {np.round(mean, 4)}')"
   ]
  },
  {
   "cell_type": "markdown",
   "metadata": {},
   "source": [
    "**The precision, recall, and F1 score are 65%.**"
   ]
  },
  {
   "cell_type": "code",
   "execution_count": null,
   "metadata": {
    "execution": {
     "iopub.execute_input": "2021-11-29T16:21:04.778604Z",
     "iopub.status.busy": "2021-11-29T16:21:04.777904Z",
     "iopub.status.idle": "2021-11-29T16:21:06.096412Z",
     "shell.execute_reply": "2021-11-29T16:21:06.095486Z",
     "shell.execute_reply.started": "2021-11-29T16:21:04.778547Z"
    },
    "trusted": true
   },
   "outputs": [],
   "source": [
    "# Fit pipeline to train set\n",
    "pipe.fit(X_train, y_train)\n",
    "\n",
    "# Predict on test set\n",
    "y_pred = pipe.predict(X_test)"
   ]
  },
  {
   "cell_type": "code",
   "execution_count": null,
   "metadata": {
    "execution": {
     "iopub.execute_input": "2021-11-29T16:21:06.099203Z",
     "iopub.status.busy": "2021-11-29T16:21:06.098515Z",
     "iopub.status.idle": "2021-11-29T16:21:06.590474Z",
     "shell.execute_reply": "2021-11-29T16:21:06.589655Z",
     "shell.execute_reply.started": "2021-11-29T16:21:06.099157Z"
    },
    "trusted": true
   },
   "outputs": [],
   "source": [
    "# Confusion matrix of test set\n",
    "plot_confusion_matrix(pipe, X_test, y_test, values_format='.5g')\n",
    "plt.show()"
   ]
  },
  {
   "cell_type": "markdown",
   "metadata": {},
   "source": [
    "We can see 2 problematic (false predicted) classes here are FF and EF. There are 30 EF predicted as FF, and 26 FF predicted as EF."
   ]
  },
  {
   "cell_type": "code",
   "execution_count": null,
   "metadata": {
    "execution": {
     "iopub.execute_input": "2021-11-29T16:21:06.593157Z",
     "iopub.status.busy": "2021-11-29T16:21:06.59282Z",
     "iopub.status.idle": "2021-11-29T16:21:06.613575Z",
     "shell.execute_reply": "2021-11-29T16:21:06.612367Z",
     "shell.execute_reply.started": "2021-11-29T16:21:06.593114Z"
    },
    "trusted": true
   },
   "outputs": [],
   "source": [
    "# Classification report\n",
    "print(classification_report(y_test, y_pred))"
   ]
  },
  {
   "cell_type": "markdown",
   "metadata": {},
   "source": [
    "# 7. Hyperparameter tuning"
   ]
  },
  {
   "cell_type": "markdown",
   "metadata": {},
   "source": [
    "From our previous LightGBM model, we achieved 65% precision, recall, and F1, however we find 2 problematic classes being falsely predicted. We will improve our model with hyperparameter tuning. We will do grid search over **4 hyperparameters** and optimize the **F1 score** as our metric."
   ]
  },
  {
   "cell_type": "code",
   "execution_count": null,
   "metadata": {
    "execution": {
     "iopub.execute_input": "2021-11-29T16:27:07.48917Z",
     "iopub.status.busy": "2021-11-29T16:27:07.488286Z",
     "iopub.status.idle": "2021-11-29T16:27:18.005664Z",
     "shell.execute_reply": "2021-11-29T16:27:18.004821Z",
     "shell.execute_reply.started": "2021-11-29T16:27:07.489124Z"
    },
    "trusted": true
   },
   "outputs": [],
   "source": [
    "# Define parameter search grid\n",
    "param_grid = {'lgbmclassifier__n_estimators': [6, 8, 16, 24],\n",
    "              'lgbmclassifier__num_leaves': [4, 6, 8],\n",
    "              'lgbmclassifier__reg_alpha' : [1, 1.5],\n",
    "              'lgbmclassifier__reg_lambda': [1, 1.5],\n",
    "              'lgbmclassifier__boosting_type': ['gbdt'] # Gradient Boosting Decision Tree\n",
    "             }\n",
    "\n",
    "# Grid search CV\n",
    "grid = GridSearchCV(pipe, param_grid, verbose=1, cv=stratkfold, n_jobs=-1, scoring='f1_macro')\n",
    "\n",
    "# Fit grid on train set\n",
    "grid.fit(X_train, y_train)"
   ]
  },
  {
   "cell_type": "markdown",
   "metadata": {},
   "source": [
    "We got **improvement to 70% F1-score** with the following tuned hyperparameters."
   ]
  },
  {
   "cell_type": "code",
   "execution_count": null,
   "metadata": {
    "execution": {
     "iopub.execute_input": "2021-11-29T16:27:18.008364Z",
     "iopub.status.busy": "2021-11-29T16:27:18.007582Z",
     "iopub.status.idle": "2021-11-29T16:27:18.014716Z",
     "shell.execute_reply": "2021-11-29T16:27:18.013892Z",
     "shell.execute_reply.started": "2021-11-29T16:27:18.008314Z"
    },
    "trusted": true
   },
   "outputs": [],
   "source": [
    "# Best model from tuning\n",
    "print(grid.best_params_)\n",
    "print(f'Average of Macro F1: {grid.best_score_}')"
   ]
  },
  {
   "cell_type": "markdown",
   "metadata": {},
   "source": [
    "Using the tuned LightGBM model, we had successfully reduced the false classes i.e. from 30 to only 8 EF classes falsely predicted as FF. "
   ]
  },
  {
   "cell_type": "code",
   "execution_count": null,
   "metadata": {
    "execution": {
     "iopub.execute_input": "2021-11-29T16:27:18.016833Z",
     "iopub.status.busy": "2021-11-29T16:27:18.016203Z",
     "iopub.status.idle": "2021-11-29T16:27:18.458277Z",
     "shell.execute_reply": "2021-11-29T16:27:18.455933Z",
     "shell.execute_reply.started": "2021-11-29T16:27:18.016781Z"
    },
    "trusted": true
   },
   "outputs": [],
   "source": [
    "# Confusion matrix of test set\n",
    "plot_confusion_matrix(grid, X_test, y_test, values_format='.5g')\n",
    "plt.show()"
   ]
  },
  {
   "cell_type": "markdown",
   "metadata": {},
   "source": [
    "Comparing the present classification report to the previous report, we improved the F1-score of EF class from 46% to 69%, and small improvement of FF class from 62% to 68%.  "
   ]
  },
  {
   "cell_type": "code",
   "execution_count": null,
   "metadata": {
    "execution": {
     "iopub.execute_input": "2021-11-29T16:27:18.460085Z",
     "iopub.status.busy": "2021-11-29T16:27:18.459832Z",
     "iopub.status.idle": "2021-11-29T16:27:18.485259Z",
     "shell.execute_reply": "2021-11-29T16:27:18.483566Z",
     "shell.execute_reply.started": "2021-11-29T16:27:18.460053Z"
    },
    "trusted": true
   },
   "outputs": [],
   "source": [
    "# Classification report\n",
    "y_pred = grid.predict(X_test)\n",
    "\n",
    "print(classification_report(y_test, y_pred))"
   ]
  },
  {
   "cell_type": "markdown",
   "metadata": {},
   "source": [
    "With this improvement, however, there remains some issues recommended for **future improvements of this work**:\n",
    "* Eventhough there is improvement, 26 FF class still falsely predicted as EF\n",
    "* Score of MF and AF are very low: 13% and 41%"
   ]
  },
  {
   "cell_type": "markdown",
   "metadata": {},
   "source": [
    "# 8. Conclusion"
   ]
  },
  {
   "cell_type": "markdown",
   "metadata": {},
   "source": [
    "We analyzed data that comes from the Supervisory Control and Data Acquisition (SCADA) system of a wind turbine from April 2014 until April 2015, with the associated faults that occured during the operating times. The SCADA system gives more than 60 records of all components of the wind turbine such as nacelle, inverter, bearing, and so on. There were 5 fault modes that developed, labeled as FF, AF, EF, MF, and GF. We found out that the number of faults significantly increases in October 2014. \n",
    "\n",
    "During faulty times, there are anomalous behaviors of the wind turbine components. For example, during GF, the temperatures of all wind turbine components are lower than during normal conditions. However, temperatures during AF and EF are higher than normal. And then, the reactive power is anomalously high during EF, while power is lower during MF. Therefore, we could classify fault modes based on various SCADA measured components. \n",
    "\n",
    "We made an Adaptive Boosting (AdaBoost) based predictive model to classify fault modes. The data is largely imbalanced among fault modes, therefore SMOTE was implemented within a 5-fold CV pipeline. From that attempt, we achieved a macro F1 score of 64-65%. Two problematic classes, EF and FF, were falsely predicted. To correct this and improve the model performance, we performed hyperparameter tuning to tune 4 AdaBoost hyperparameters. After tuning, the macro F1 score improved to 69-70%. The number of false prediction of EF classes successfully reduces. \n",
    "\n",
    "The individual F1 scores of AF and MF were still low. Therefore, an improvement of this work is recommended and will be appreciated.\n",
    "\n",
    "**Thank you!**"
   ]
  }
 ],
 "metadata": {
  "kaggle": {
   "accelerator": "none",
   "dataSources": [
    {
     "datasetId": 387650,
     "sourceId": 748912,
     "sourceType": "datasetVersion"
    }
   ],
   "dockerImageVersionId": 30145,
   "isGpuEnabled": false,
   "isInternetEnabled": true,
   "language": "python",
   "sourceType": "notebook"
  },
  "kernelspec": {
   "display_name": "tt_1113",
   "language": "python",
   "name": "python3"
  },
  "language_info": {
   "codemirror_mode": {
    "name": "ipython",
    "version": 3
   },
   "file_extension": ".py",
   "mimetype": "text/x-python",
   "name": "python",
   "nbconvert_exporter": "python",
   "pygments_lexer": "ipython3",
   "version": "3.8.20"
  }
 },
 "nbformat": 4,
 "nbformat_minor": 4
}
